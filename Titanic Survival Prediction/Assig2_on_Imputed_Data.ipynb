{
 "cells": [
  {
   "cell_type": "markdown",
   "metadata": {},
   "source": [
    "# Part-(1A) Imputation methods using SimpleImputer (handling numerical data),OrdinalEncoder(handling categorical data) and Standard scailing with Shuffled splitted data"
   ]
  },
  {
   "cell_type": "code",
   "execution_count": 106,
   "metadata": {},
   "outputs": [],
   "source": [
    "import pandas as pd\n",
    "import numpy as np\n",
    "from sklearn.svm import LinearSVC\n",
    "from sklearn.naive_bayes import GaussianNB as NB\n",
    "from sklearn.ensemble import RandomForestClassifier as RF\n",
    "from sklearn.neighbors import KNeighborsClassifier as KNN\n",
    "from sklearn.ensemble import GradientBoostingClassifier as GB\n",
    "from sklearn.metrics import average_precision_score\n",
    "from sklearn.ensemble import AdaBoostClassifier as ab\n",
    "from sklearn.tree import DecisionTreeClassifier as dt\n",
    "from sklearn.metrics import confusion_matrix\n",
    "from sklearn.model_selection import cross_val_score\n",
    "from sklearn.model_selection import validation_curve\n",
    "from sklearn.linear_model import LogisticRegression as LR\n",
    "from sklearn.model_selection import train_test_split\n",
    "from sklearn.model_selection import learning_curve\n",
    "\n",
    "from sklearn.metrics import classification_report, confusion_matrix, roc_curve, auc\n",
    "\n",
    "\n",
    "from sklearn.linear_model import SGDClassifier as sg\n",
    "import matplotlib.pyplot as plt\n",
    "import numpy as np"
   ]
  },
  {
   "cell_type": "code",
   "execution_count": 107,
   "metadata": {},
   "outputs": [
    {
     "data": {
      "text/html": [
       "<div>\n",
       "<style scoped>\n",
       "    .dataframe tbody tr th:only-of-type {\n",
       "        vertical-align: middle;\n",
       "    }\n",
       "\n",
       "    .dataframe tbody tr th {\n",
       "        vertical-align: top;\n",
       "    }\n",
       "\n",
       "    .dataframe thead th {\n",
       "        text-align: right;\n",
       "    }\n",
       "</style>\n",
       "<table border=\"1\" class=\"dataframe\">\n",
       "  <thead>\n",
       "    <tr style=\"text-align: right;\">\n",
       "      <th></th>\n",
       "      <th>PassengerId</th>\n",
       "      <th>Survived</th>\n",
       "      <th>Pclass</th>\n",
       "      <th>Name</th>\n",
       "      <th>Sex</th>\n",
       "      <th>Age</th>\n",
       "      <th>SibSp</th>\n",
       "      <th>Parch</th>\n",
       "      <th>Ticket</th>\n",
       "      <th>Fare</th>\n",
       "      <th>Cabin</th>\n",
       "      <th>Embarked</th>\n",
       "    </tr>\n",
       "  </thead>\n",
       "  <tbody>\n",
       "    <tr>\n",
       "      <th>0</th>\n",
       "      <td>1</td>\n",
       "      <td>0</td>\n",
       "      <td>3</td>\n",
       "      <td>Braund, Mr. Owen Harris</td>\n",
       "      <td>male</td>\n",
       "      <td>22.0</td>\n",
       "      <td>1</td>\n",
       "      <td>0</td>\n",
       "      <td>A/5 21171</td>\n",
       "      <td>7.2500</td>\n",
       "      <td>NaN</td>\n",
       "      <td>S</td>\n",
       "    </tr>\n",
       "    <tr>\n",
       "      <th>1</th>\n",
       "      <td>2</td>\n",
       "      <td>1</td>\n",
       "      <td>1</td>\n",
       "      <td>Cumings, Mrs. John Bradley (Florence Briggs Th...</td>\n",
       "      <td>female</td>\n",
       "      <td>38.0</td>\n",
       "      <td>1</td>\n",
       "      <td>0</td>\n",
       "      <td>PC 17599</td>\n",
       "      <td>71.2833</td>\n",
       "      <td>C85</td>\n",
       "      <td>C</td>\n",
       "    </tr>\n",
       "    <tr>\n",
       "      <th>2</th>\n",
       "      <td>3</td>\n",
       "      <td>1</td>\n",
       "      <td>3</td>\n",
       "      <td>Heikkinen, Miss. Laina</td>\n",
       "      <td>female</td>\n",
       "      <td>26.0</td>\n",
       "      <td>0</td>\n",
       "      <td>0</td>\n",
       "      <td>STON/O2. 3101282</td>\n",
       "      <td>7.9250</td>\n",
       "      <td>NaN</td>\n",
       "      <td>S</td>\n",
       "    </tr>\n",
       "    <tr>\n",
       "      <th>3</th>\n",
       "      <td>4</td>\n",
       "      <td>1</td>\n",
       "      <td>1</td>\n",
       "      <td>Futrelle, Mrs. Jacques Heath (Lily May Peel)</td>\n",
       "      <td>female</td>\n",
       "      <td>35.0</td>\n",
       "      <td>1</td>\n",
       "      <td>0</td>\n",
       "      <td>113803</td>\n",
       "      <td>53.1000</td>\n",
       "      <td>C123</td>\n",
       "      <td>S</td>\n",
       "    </tr>\n",
       "    <tr>\n",
       "      <th>4</th>\n",
       "      <td>5</td>\n",
       "      <td>0</td>\n",
       "      <td>3</td>\n",
       "      <td>Allen, Mr. William Henry</td>\n",
       "      <td>male</td>\n",
       "      <td>35.0</td>\n",
       "      <td>0</td>\n",
       "      <td>0</td>\n",
       "      <td>373450</td>\n",
       "      <td>8.0500</td>\n",
       "      <td>NaN</td>\n",
       "      <td>S</td>\n",
       "    </tr>\n",
       "    <tr>\n",
       "      <th>...</th>\n",
       "      <td>...</td>\n",
       "      <td>...</td>\n",
       "      <td>...</td>\n",
       "      <td>...</td>\n",
       "      <td>...</td>\n",
       "      <td>...</td>\n",
       "      <td>...</td>\n",
       "      <td>...</td>\n",
       "      <td>...</td>\n",
       "      <td>...</td>\n",
       "      <td>...</td>\n",
       "      <td>...</td>\n",
       "    </tr>\n",
       "    <tr>\n",
       "      <th>1304</th>\n",
       "      <td>1305</td>\n",
       "      <td>0</td>\n",
       "      <td>3</td>\n",
       "      <td>Spector, Mr. Woolf</td>\n",
       "      <td>male</td>\n",
       "      <td>NaN</td>\n",
       "      <td>0</td>\n",
       "      <td>0</td>\n",
       "      <td>A.5. 3236</td>\n",
       "      <td>8.0500</td>\n",
       "      <td>NaN</td>\n",
       "      <td>S</td>\n",
       "    </tr>\n",
       "    <tr>\n",
       "      <th>1305</th>\n",
       "      <td>1306</td>\n",
       "      <td>1</td>\n",
       "      <td>1</td>\n",
       "      <td>Oliva y Ocana, Dona. Fermina</td>\n",
       "      <td>female</td>\n",
       "      <td>39.0</td>\n",
       "      <td>0</td>\n",
       "      <td>0</td>\n",
       "      <td>PC 17758</td>\n",
       "      <td>108.9000</td>\n",
       "      <td>C105</td>\n",
       "      <td>C</td>\n",
       "    </tr>\n",
       "    <tr>\n",
       "      <th>1306</th>\n",
       "      <td>1307</td>\n",
       "      <td>0</td>\n",
       "      <td>3</td>\n",
       "      <td>Saether, Mr. Simon Sivertsen</td>\n",
       "      <td>male</td>\n",
       "      <td>38.5</td>\n",
       "      <td>0</td>\n",
       "      <td>0</td>\n",
       "      <td>SOTON/O.Q. 3101262</td>\n",
       "      <td>7.2500</td>\n",
       "      <td>NaN</td>\n",
       "      <td>S</td>\n",
       "    </tr>\n",
       "    <tr>\n",
       "      <th>1307</th>\n",
       "      <td>1308</td>\n",
       "      <td>1</td>\n",
       "      <td>3</td>\n",
       "      <td>Ware, Mr. Frederick</td>\n",
       "      <td>male</td>\n",
       "      <td>NaN</td>\n",
       "      <td>0</td>\n",
       "      <td>0</td>\n",
       "      <td>359309</td>\n",
       "      <td>8.0500</td>\n",
       "      <td>NaN</td>\n",
       "      <td>S</td>\n",
       "    </tr>\n",
       "    <tr>\n",
       "      <th>1308</th>\n",
       "      <td>1309</td>\n",
       "      <td>1</td>\n",
       "      <td>3</td>\n",
       "      <td>Peter, Master. Michael J</td>\n",
       "      <td>male</td>\n",
       "      <td>NaN</td>\n",
       "      <td>1</td>\n",
       "      <td>1</td>\n",
       "      <td>2668</td>\n",
       "      <td>22.3583</td>\n",
       "      <td>NaN</td>\n",
       "      <td>C</td>\n",
       "    </tr>\n",
       "  </tbody>\n",
       "</table>\n",
       "<p>1309 rows × 12 columns</p>\n",
       "</div>"
      ],
      "text/plain": [
       "      PassengerId  Survived  Pclass  \\\n",
       "0               1         0       3   \n",
       "1               2         1       1   \n",
       "2               3         1       3   \n",
       "3               4         1       1   \n",
       "4               5         0       3   \n",
       "...           ...       ...     ...   \n",
       "1304         1305         0       3   \n",
       "1305         1306         1       1   \n",
       "1306         1307         0       3   \n",
       "1307         1308         1       3   \n",
       "1308         1309         1       3   \n",
       "\n",
       "                                                   Name     Sex   Age  SibSp  \\\n",
       "0                               Braund, Mr. Owen Harris    male  22.0      1   \n",
       "1     Cumings, Mrs. John Bradley (Florence Briggs Th...  female  38.0      1   \n",
       "2                                Heikkinen, Miss. Laina  female  26.0      0   \n",
       "3          Futrelle, Mrs. Jacques Heath (Lily May Peel)  female  35.0      1   \n",
       "4                              Allen, Mr. William Henry    male  35.0      0   \n",
       "...                                                 ...     ...   ...    ...   \n",
       "1304                                 Spector, Mr. Woolf    male   NaN      0   \n",
       "1305                       Oliva y Ocana, Dona. Fermina  female  39.0      0   \n",
       "1306                       Saether, Mr. Simon Sivertsen    male  38.5      0   \n",
       "1307                                Ware, Mr. Frederick    male   NaN      0   \n",
       "1308                           Peter, Master. Michael J    male   NaN      1   \n",
       "\n",
       "      Parch              Ticket      Fare Cabin Embarked  \n",
       "0         0           A/5 21171    7.2500   NaN        S  \n",
       "1         0            PC 17599   71.2833   C85        C  \n",
       "2         0    STON/O2. 3101282    7.9250   NaN        S  \n",
       "3         0              113803   53.1000  C123        S  \n",
       "4         0              373450    8.0500   NaN        S  \n",
       "...     ...                 ...       ...   ...      ...  \n",
       "1304      0           A.5. 3236    8.0500   NaN        S  \n",
       "1305      0            PC 17758  108.9000  C105        C  \n",
       "1306      0  SOTON/O.Q. 3101262    7.2500   NaN        S  \n",
       "1307      0              359309    8.0500   NaN        S  \n",
       "1308      1                2668   22.3583   NaN        C  \n",
       "\n",
       "[1309 rows x 12 columns]"
      ]
     },
     "execution_count": 107,
     "metadata": {},
     "output_type": "execute_result"
    }
   ],
   "source": [
    "data=pd.read_csv('Titanic_full.csv')\n",
    "data"
   ]
  },
  {
   "cell_type": "code",
   "execution_count": 108,
   "metadata": {},
   "outputs": [
    {
     "data": {
      "text/plain": [
       "<matplotlib.axes._subplots.AxesSubplot at 0x198e541b948>"
      ]
     },
     "execution_count": 108,
     "metadata": {},
     "output_type": "execute_result"
    },
    {
     "data": {
      "image/png": "[encoded data removed]",
      "text/plain": [
       "<Figure size 432x288 with 2 Axes>"
      ]
     },
     "metadata": {
      "needs_background": "light"
     },
     "output_type": "display_data"
    }
   ],
   "source": [
    "import seaborn as sns\n",
    "import matplotlib.pyplot as plt\n",
    "\n",
    "corr = data.corr()\n",
    "sns.heatmap(np.abs(corr),          # use absolute values\n",
    "        xticklabels=corr.columns,\n",
    "        yticklabels=corr.columns)"
   ]
  },
  {
   "cell_type": "code",
   "execution_count": 109,
   "metadata": {},
   "outputs": [],
   "source": [
    "data_feat= data.drop([\"Cabin\",\"Name\",\"Ticket\"], axis=1) # drop labels for training set"
   ]
  },
  {
   "cell_type": "code",
   "execution_count": 110,
   "metadata": {},
   "outputs": [
    {
     "data": {
      "text/html": [
       "<div>\n",
       "<style scoped>\n",
       "    .dataframe tbody tr th:only-of-type {\n",
       "        vertical-align: middle;\n",
       "    }\n",
       "\n",
       "    .dataframe tbody tr th {\n",
       "        vertical-align: top;\n",
       "    }\n",
       "\n",
       "    .dataframe thead th {\n",
       "        text-align: right;\n",
       "    }\n",
       "</style>\n",
       "<table border=\"1\" class=\"dataframe\">\n",
       "  <thead>\n",
       "    <tr style=\"text-align: right;\">\n",
       "      <th></th>\n",
       "      <th>PassengerId</th>\n",
       "      <th>Survived</th>\n",
       "      <th>Pclass</th>\n",
       "      <th>Sex</th>\n",
       "      <th>Age</th>\n",
       "      <th>SibSp</th>\n",
       "      <th>Parch</th>\n",
       "      <th>Fare</th>\n",
       "      <th>Embarked</th>\n",
       "    </tr>\n",
       "  </thead>\n",
       "  <tbody>\n",
       "    <tr>\n",
       "      <th>5</th>\n",
       "      <td>6</td>\n",
       "      <td>0</td>\n",
       "      <td>3</td>\n",
       "      <td>male</td>\n",
       "      <td>NaN</td>\n",
       "      <td>0</td>\n",
       "      <td>0</td>\n",
       "      <td>8.4583</td>\n",
       "      <td>Q</td>\n",
       "    </tr>\n",
       "    <tr>\n",
       "      <th>17</th>\n",
       "      <td>18</td>\n",
       "      <td>1</td>\n",
       "      <td>2</td>\n",
       "      <td>male</td>\n",
       "      <td>NaN</td>\n",
       "      <td>0</td>\n",
       "      <td>0</td>\n",
       "      <td>13.0000</td>\n",
       "      <td>S</td>\n",
       "    </tr>\n",
       "    <tr>\n",
       "      <th>19</th>\n",
       "      <td>20</td>\n",
       "      <td>1</td>\n",
       "      <td>3</td>\n",
       "      <td>female</td>\n",
       "      <td>NaN</td>\n",
       "      <td>0</td>\n",
       "      <td>0</td>\n",
       "      <td>7.2250</td>\n",
       "      <td>C</td>\n",
       "    </tr>\n",
       "    <tr>\n",
       "      <th>26</th>\n",
       "      <td>27</td>\n",
       "      <td>0</td>\n",
       "      <td>3</td>\n",
       "      <td>male</td>\n",
       "      <td>NaN</td>\n",
       "      <td>0</td>\n",
       "      <td>0</td>\n",
       "      <td>7.2250</td>\n",
       "      <td>C</td>\n",
       "    </tr>\n",
       "    <tr>\n",
       "      <th>28</th>\n",
       "      <td>29</td>\n",
       "      <td>1</td>\n",
       "      <td>3</td>\n",
       "      <td>female</td>\n",
       "      <td>NaN</td>\n",
       "      <td>0</td>\n",
       "      <td>0</td>\n",
       "      <td>7.8792</td>\n",
       "      <td>Q</td>\n",
       "    </tr>\n",
       "  </tbody>\n",
       "</table>\n",
       "</div>"
      ],
      "text/plain": [
       "    PassengerId  Survived  Pclass     Sex  Age  SibSp  Parch     Fare Embarked\n",
       "5             6         0       3    male  NaN      0      0   8.4583        Q\n",
       "17           18         1       2    male  NaN      0      0  13.0000        S\n",
       "19           20         1       3  female  NaN      0      0   7.2250        C\n",
       "26           27         0       3    male  NaN      0      0   7.2250        C\n",
       "28           29         1       3  female  NaN      0      0   7.8792        Q"
      ]
     },
     "execution_count": 110,
     "metadata": {},
     "output_type": "execute_result"
    }
   ],
   "source": [
    "sample_incomplete_rows = data_feat[data_feat.isnull().any(axis=1)].head()\n",
    "sample_incomplete_rows"
   ]
  },
  {
   "cell_type": "code",
   "execution_count": 111,
   "metadata": {},
   "outputs": [
    {
     "data": {
      "image/png": "[encoded data removed]",
      "text/plain": [
       "<Figure size 504x504 with 1 Axes>"
      ]
     },
     "metadata": {
      "needs_background": "light"
     },
     "output_type": "display_data"
    }
   ],
   "source": [
    "box = data.boxplot(column='PassengerId',by='Survived',grid=False,\n",
    "patch_artist=True,figsize=(7,7))"
   ]
  },
  {
   "cell_type": "code",
   "execution_count": 112,
   "metadata": {},
   "outputs": [],
   "source": [
    "from sklearn.impute import SimpleImputer\n",
    "\n",
    "imputer = SimpleImputer(strategy=\"mean\")"
   ]
  },
  {
   "cell_type": "code",
   "execution_count": 113,
   "metadata": {},
   "outputs": [],
   "source": [
    "data_num=data_feat.select_dtypes(include=[np.number])"
   ]
  },
  {
   "cell_type": "code",
   "execution_count": 114,
   "metadata": {},
   "outputs": [
    {
     "data": {
      "text/plain": [
       "SimpleImputer(add_indicator=False, copy=True, fill_value=None,\n",
       "              missing_values=nan, strategy='mean', verbose=0)"
      ]
     },
     "execution_count": 114,
     "metadata": {},
     "output_type": "execute_result"
    }
   ],
   "source": [
    "imputer.fit(data_num)"
   ]
  },
  {
   "cell_type": "code",
   "execution_count": 115,
   "metadata": {},
   "outputs": [
    {
     "data": {
      "text/plain": [
       "array([6.55000000e+02, 3.85790680e-01, 2.29488159e+00, 2.98811377e+01,\n",
       "       4.98854087e-01, 3.85026738e-01, 3.32954793e+01])"
      ]
     },
     "execution_count": 115,
     "metadata": {},
     "output_type": "execute_result"
    }
   ],
   "source": [
    "imputer.statistics_"
   ]
  },
  {
   "cell_type": "code",
   "execution_count": 116,
   "metadata": {},
   "outputs": [
    {
     "data": {
      "text/plain": [
       "array([6.55000000e+02, 3.85790680e-01, 2.29488159e+00, 2.98811377e+01,\n",
       "       4.98854087e-01, 3.85026738e-01, 3.32954793e+01])"
      ]
     },
     "execution_count": 116,
     "metadata": {},
     "output_type": "execute_result"
    }
   ],
   "source": [
    "data_num.mean().values"
   ]
  },
  {
   "cell_type": "code",
   "execution_count": 117,
   "metadata": {},
   "outputs": [
    {
     "data": {
      "text/plain": [
       "array([[1.00000e+00, 0.00000e+00, 3.00000e+00, ..., 1.00000e+00,\n",
       "        0.00000e+00, 7.25000e+00],\n",
       "       [2.00000e+00, 1.00000e+00, 1.00000e+00, ..., 1.00000e+00,\n",
       "        0.00000e+00, 7.12833e+01],\n",
       "       [3.00000e+00, 1.00000e+00, 3.00000e+00, ..., 0.00000e+00,\n",
       "        0.00000e+00, 7.92500e+00],\n",
       "       ...,\n",
       "       [1.30700e+03, 0.00000e+00, 3.00000e+00, ..., 0.00000e+00,\n",
       "        0.00000e+00, 7.25000e+00],\n",
       "       [1.30800e+03, 1.00000e+00, 3.00000e+00, ..., 0.00000e+00,\n",
       "        0.00000e+00, 8.05000e+00],\n",
       "       [1.30900e+03, 1.00000e+00, 3.00000e+00, ..., 1.00000e+00,\n",
       "        1.00000e+00, 2.23583e+01]])"
      ]
     },
     "execution_count": 117,
     "metadata": {},
     "output_type": "execute_result"
    }
   ],
   "source": [
    "X = imputer.transform(data_num)\n",
    "X"
   ]
  },
  {
   "cell_type": "code",
   "execution_count": 118,
   "metadata": {},
   "outputs": [
    {
     "data": {
      "text/html": [
       "<div>\n",
       "<style scoped>\n",
       "    .dataframe tbody tr th:only-of-type {\n",
       "        vertical-align: middle;\n",
       "    }\n",
       "\n",
       "    .dataframe tbody tr th {\n",
       "        vertical-align: top;\n",
       "    }\n",
       "\n",
       "    .dataframe thead th {\n",
       "        text-align: right;\n",
       "    }\n",
       "</style>\n",
       "<table border=\"1\" class=\"dataframe\">\n",
       "  <thead>\n",
       "    <tr style=\"text-align: right;\">\n",
       "      <th></th>\n",
       "      <th>PassengerId</th>\n",
       "      <th>Survived</th>\n",
       "      <th>Pclass</th>\n",
       "      <th>Age</th>\n",
       "      <th>SibSp</th>\n",
       "      <th>Parch</th>\n",
       "      <th>Fare</th>\n",
       "    </tr>\n",
       "  </thead>\n",
       "  <tbody>\n",
       "    <tr>\n",
       "      <th>0</th>\n",
       "      <td>1.0</td>\n",
       "      <td>0.0</td>\n",
       "      <td>3.0</td>\n",
       "      <td>22.000000</td>\n",
       "      <td>1.0</td>\n",
       "      <td>0.0</td>\n",
       "      <td>7.2500</td>\n",
       "    </tr>\n",
       "    <tr>\n",
       "      <th>1</th>\n",
       "      <td>2.0</td>\n",
       "      <td>1.0</td>\n",
       "      <td>1.0</td>\n",
       "      <td>38.000000</td>\n",
       "      <td>1.0</td>\n",
       "      <td>0.0</td>\n",
       "      <td>71.2833</td>\n",
       "    </tr>\n",
       "    <tr>\n",
       "      <th>2</th>\n",
       "      <td>3.0</td>\n",
       "      <td>1.0</td>\n",
       "      <td>3.0</td>\n",
       "      <td>26.000000</td>\n",
       "      <td>0.0</td>\n",
       "      <td>0.0</td>\n",
       "      <td>7.9250</td>\n",
       "    </tr>\n",
       "    <tr>\n",
       "      <th>3</th>\n",
       "      <td>4.0</td>\n",
       "      <td>1.0</td>\n",
       "      <td>1.0</td>\n",
       "      <td>35.000000</td>\n",
       "      <td>1.0</td>\n",
       "      <td>0.0</td>\n",
       "      <td>53.1000</td>\n",
       "    </tr>\n",
       "    <tr>\n",
       "      <th>4</th>\n",
       "      <td>5.0</td>\n",
       "      <td>0.0</td>\n",
       "      <td>3.0</td>\n",
       "      <td>35.000000</td>\n",
       "      <td>0.0</td>\n",
       "      <td>0.0</td>\n",
       "      <td>8.0500</td>\n",
       "    </tr>\n",
       "    <tr>\n",
       "      <th>...</th>\n",
       "      <td>...</td>\n",
       "      <td>...</td>\n",
       "      <td>...</td>\n",
       "      <td>...</td>\n",
       "      <td>...</td>\n",
       "      <td>...</td>\n",
       "      <td>...</td>\n",
       "    </tr>\n",
       "    <tr>\n",
       "      <th>1304</th>\n",
       "      <td>1305.0</td>\n",
       "      <td>0.0</td>\n",
       "      <td>3.0</td>\n",
       "      <td>29.881138</td>\n",
       "      <td>0.0</td>\n",
       "      <td>0.0</td>\n",
       "      <td>8.0500</td>\n",
       "    </tr>\n",
       "    <tr>\n",
       "      <th>1305</th>\n",
       "      <td>1306.0</td>\n",
       "      <td>1.0</td>\n",
       "      <td>1.0</td>\n",
       "      <td>39.000000</td>\n",
       "      <td>0.0</td>\n",
       "      <td>0.0</td>\n",
       "      <td>108.9000</td>\n",
       "    </tr>\n",
       "    <tr>\n",
       "      <th>1306</th>\n",
       "      <td>1307.0</td>\n",
       "      <td>0.0</td>\n",
       "      <td>3.0</td>\n",
       "      <td>38.500000</td>\n",
       "      <td>0.0</td>\n",
       "      <td>0.0</td>\n",
       "      <td>7.2500</td>\n",
       "    </tr>\n",
       "    <tr>\n",
       "      <th>1307</th>\n",
       "      <td>1308.0</td>\n",
       "      <td>1.0</td>\n",
       "      <td>3.0</td>\n",
       "      <td>29.881138</td>\n",
       "      <td>0.0</td>\n",
       "      <td>0.0</td>\n",
       "      <td>8.0500</td>\n",
       "    </tr>\n",
       "    <tr>\n",
       "      <th>1308</th>\n",
       "      <td>1309.0</td>\n",
       "      <td>1.0</td>\n",
       "      <td>3.0</td>\n",
       "      <td>29.881138</td>\n",
       "      <td>1.0</td>\n",
       "      <td>1.0</td>\n",
       "      <td>22.3583</td>\n",
       "    </tr>\n",
       "  </tbody>\n",
       "</table>\n",
       "<p>1309 rows × 7 columns</p>\n",
       "</div>"
      ],
      "text/plain": [
       "      PassengerId  Survived  Pclass        Age  SibSp  Parch      Fare\n",
       "0             1.0       0.0     3.0  22.000000    1.0    0.0    7.2500\n",
       "1             2.0       1.0     1.0  38.000000    1.0    0.0   71.2833\n",
       "2             3.0       1.0     3.0  26.000000    0.0    0.0    7.9250\n",
       "3             4.0       1.0     1.0  35.000000    1.0    0.0   53.1000\n",
       "4             5.0       0.0     3.0  35.000000    0.0    0.0    8.0500\n",
       "...           ...       ...     ...        ...    ...    ...       ...\n",
       "1304       1305.0       0.0     3.0  29.881138    0.0    0.0    8.0500\n",
       "1305       1306.0       1.0     1.0  39.000000    0.0    0.0  108.9000\n",
       "1306       1307.0       0.0     3.0  38.500000    0.0    0.0    7.2500\n",
       "1307       1308.0       1.0     3.0  29.881138    0.0    0.0    8.0500\n",
       "1308       1309.0       1.0     3.0  29.881138    1.0    1.0   22.3583\n",
       "\n",
       "[1309 rows x 7 columns]"
      ]
     },
     "execution_count": 118,
     "metadata": {},
     "output_type": "execute_result"
    }
   ],
   "source": [
    "data_tr = pd.DataFrame(X, columns=data_num.columns,\n",
    "                          index=data_num.index)\n",
    "data_tr"
   ]
  },
  {
   "cell_type": "code",
   "execution_count": 119,
   "metadata": {},
   "outputs": [
    {
     "data": {
      "text/html": [
       "<div>\n",
       "<style scoped>\n",
       "    .dataframe tbody tr th:only-of-type {\n",
       "        vertical-align: middle;\n",
       "    }\n",
       "\n",
       "    .dataframe tbody tr th {\n",
       "        vertical-align: top;\n",
       "    }\n",
       "\n",
       "    .dataframe thead th {\n",
       "        text-align: right;\n",
       "    }\n",
       "</style>\n",
       "<table border=\"1\" class=\"dataframe\">\n",
       "  <thead>\n",
       "    <tr style=\"text-align: right;\">\n",
       "      <th></th>\n",
       "      <th>PassengerId</th>\n",
       "      <th>Survived</th>\n",
       "      <th>Pclass</th>\n",
       "      <th>Age</th>\n",
       "      <th>SibSp</th>\n",
       "      <th>Parch</th>\n",
       "      <th>Fare</th>\n",
       "    </tr>\n",
       "  </thead>\n",
       "  <tbody>\n",
       "    <tr>\n",
       "      <th>5</th>\n",
       "      <td>6.0</td>\n",
       "      <td>0.0</td>\n",
       "      <td>3.0</td>\n",
       "      <td>29.881138</td>\n",
       "      <td>0.0</td>\n",
       "      <td>0.0</td>\n",
       "      <td>8.4583</td>\n",
       "    </tr>\n",
       "    <tr>\n",
       "      <th>17</th>\n",
       "      <td>18.0</td>\n",
       "      <td>1.0</td>\n",
       "      <td>2.0</td>\n",
       "      <td>29.881138</td>\n",
       "      <td>0.0</td>\n",
       "      <td>0.0</td>\n",
       "      <td>13.0000</td>\n",
       "    </tr>\n",
       "    <tr>\n",
       "      <th>19</th>\n",
       "      <td>20.0</td>\n",
       "      <td>1.0</td>\n",
       "      <td>3.0</td>\n",
       "      <td>29.881138</td>\n",
       "      <td>0.0</td>\n",
       "      <td>0.0</td>\n",
       "      <td>7.2250</td>\n",
       "    </tr>\n",
       "    <tr>\n",
       "      <th>26</th>\n",
       "      <td>27.0</td>\n",
       "      <td>0.0</td>\n",
       "      <td>3.0</td>\n",
       "      <td>29.881138</td>\n",
       "      <td>0.0</td>\n",
       "      <td>0.0</td>\n",
       "      <td>7.2250</td>\n",
       "    </tr>\n",
       "    <tr>\n",
       "      <th>28</th>\n",
       "      <td>29.0</td>\n",
       "      <td>1.0</td>\n",
       "      <td>3.0</td>\n",
       "      <td>29.881138</td>\n",
       "      <td>0.0</td>\n",
       "      <td>0.0</td>\n",
       "      <td>7.8792</td>\n",
       "    </tr>\n",
       "  </tbody>\n",
       "</table>\n",
       "</div>"
      ],
      "text/plain": [
       "    PassengerId  Survived  Pclass        Age  SibSp  Parch     Fare\n",
       "5           6.0       0.0     3.0  29.881138    0.0    0.0   8.4583\n",
       "17         18.0       1.0     2.0  29.881138    0.0    0.0  13.0000\n",
       "19         20.0       1.0     3.0  29.881138    0.0    0.0   7.2250\n",
       "26         27.0       0.0     3.0  29.881138    0.0    0.0   7.2250\n",
       "28         29.0       1.0     3.0  29.881138    0.0    0.0   7.8792"
      ]
     },
     "execution_count": 119,
     "metadata": {},
     "output_type": "execute_result"
    }
   ],
   "source": [
    "data_tr.loc[sample_incomplete_rows.index.values]"
   ]
  },
  {
   "cell_type": "code",
   "execution_count": 120,
   "metadata": {},
   "outputs": [
    {
     "data": {
      "text/plain": [
       "'mean'"
      ]
     },
     "execution_count": 120,
     "metadata": {},
     "output_type": "execute_result"
    }
   ],
   "source": [
    "imputer.strategy"
   ]
  },
  {
   "cell_type": "code",
   "execution_count": 121,
   "metadata": {},
   "outputs": [
    {
     "data": {
      "text/plain": [
       "PassengerId    False\n",
       "Survived       False\n",
       "Pclass         False\n",
       "Age            False\n",
       "SibSp          False\n",
       "Parch          False\n",
       "Fare           False\n",
       "dtype: bool"
      ]
     },
     "execution_count": 121,
     "metadata": {},
     "output_type": "execute_result"
    }
   ],
   "source": [
    "data_tr.isnull().any(axis=0)"
   ]
  },
  {
   "cell_type": "code",
   "execution_count": 122,
   "metadata": {
    "scrolled": false
   },
   "outputs": [
    {
     "data": {
      "text/html": [
       "<div>\n",
       "<style scoped>\n",
       "    .dataframe tbody tr th:only-of-type {\n",
       "        vertical-align: middle;\n",
       "    }\n",
       "\n",
       "    .dataframe tbody tr th {\n",
       "        vertical-align: top;\n",
       "    }\n",
       "\n",
       "    .dataframe thead th {\n",
       "        text-align: right;\n",
       "    }\n",
       "</style>\n",
       "<table border=\"1\" class=\"dataframe\">\n",
       "  <thead>\n",
       "    <tr style=\"text-align: right;\">\n",
       "      <th></th>\n",
       "      <th>Sex</th>\n",
       "      <th>Embarked</th>\n",
       "    </tr>\n",
       "  </thead>\n",
       "  <tbody>\n",
       "    <tr>\n",
       "      <th>0</th>\n",
       "      <td>male</td>\n",
       "      <td>S</td>\n",
       "    </tr>\n",
       "    <tr>\n",
       "      <th>1</th>\n",
       "      <td>female</td>\n",
       "      <td>C</td>\n",
       "    </tr>\n",
       "    <tr>\n",
       "      <th>2</th>\n",
       "      <td>female</td>\n",
       "      <td>S</td>\n",
       "    </tr>\n",
       "    <tr>\n",
       "      <th>3</th>\n",
       "      <td>female</td>\n",
       "      <td>S</td>\n",
       "    </tr>\n",
       "    <tr>\n",
       "      <th>4</th>\n",
       "      <td>male</td>\n",
       "      <td>S</td>\n",
       "    </tr>\n",
       "    <tr>\n",
       "      <th>5</th>\n",
       "      <td>male</td>\n",
       "      <td>Q</td>\n",
       "    </tr>\n",
       "    <tr>\n",
       "      <th>6</th>\n",
       "      <td>male</td>\n",
       "      <td>S</td>\n",
       "    </tr>\n",
       "    <tr>\n",
       "      <th>7</th>\n",
       "      <td>male</td>\n",
       "      <td>S</td>\n",
       "    </tr>\n",
       "    <tr>\n",
       "      <th>8</th>\n",
       "      <td>female</td>\n",
       "      <td>S</td>\n",
       "    </tr>\n",
       "    <tr>\n",
       "      <th>9</th>\n",
       "      <td>female</td>\n",
       "      <td>C</td>\n",
       "    </tr>\n",
       "  </tbody>\n",
       "</table>\n",
       "</div>"
      ],
      "text/plain": [
       "      Sex Embarked\n",
       "0    male        S\n",
       "1  female        C\n",
       "2  female        S\n",
       "3  female        S\n",
       "4    male        S\n",
       "5    male        Q\n",
       "6    male        S\n",
       "7    male        S\n",
       "8  female        S\n",
       "9  female        C"
      ]
     },
     "execution_count": 122,
     "metadata": {},
     "output_type": "execute_result"
    }
   ],
   "source": [
    "data_cat = data_feat.drop(columns=data_num)\n",
    "data_cat.head(10)"
   ]
  },
  {
   "cell_type": "code",
   "execution_count": 123,
   "metadata": {},
   "outputs": [
    {
     "data": {
      "text/plain": [
       "Sex         False\n",
       "Embarked     True\n",
       "dtype: bool"
      ]
     },
     "execution_count": 123,
     "metadata": {},
     "output_type": "execute_result"
    }
   ],
   "source": [
    "data_cat.isnull().any(axis=0)"
   ]
  },
  {
   "cell_type": "code",
   "execution_count": 124,
   "metadata": {},
   "outputs": [],
   "source": [
    "data_cat['Embarked']= data_cat['Embarked'].fillna(data_cat['Embarked'].mode()[0])"
   ]
  },
  {
   "cell_type": "code",
   "execution_count": 125,
   "metadata": {},
   "outputs": [
    {
     "data": {
      "text/plain": [
       "Text(0.5, 0, 'Port of Embarkation')"
      ]
     },
     "execution_count": 125,
     "metadata": {},
     "output_type": "execute_result"
    },
    {
     "data": {
      "image/png": "[encoded data removed]",
      "text/plain": [
       "<Figure size 504x504 with 1 Axes>"
      ]
     },
     "metadata": {
      "needs_background": "light"
     },
     "output_type": "display_data"
    }
   ],
   "source": [
    "lst=[data_cat,data_tr]\n",
    "data_analys=pd.concat(lst,axis = 1)\n",
    "proportion_male = []\n",
    "proportion_female = []\n",
    "port = data_cat['Embarked'].unique()\n",
    "for i in port:\n",
    "    male_pass =  data_analys[(data_analys['Sex'] == 'male') & (data_analys['Embarked'] == i)]['PassengerId'].count()\n",
    "    female_pass =  data_analys[(data_analys['Sex'] == 'female') & (data_analys['Embarked'] == i)]['PassengerId'].count()\n",
    "    total_pass = data_analys[(data_analys['Embarked'] == i)]['PassengerId'].count()\n",
    "    proportion_male.append(male_pass/total_pass)\n",
    "    proportion_female.append(female_pass/total_pass)\n",
    "    \n",
    "# creating a new DataFrame with the 'Embarked' values as the indices and the proportion values as columns #\n",
    "temp_df= pd.DataFrame()\n",
    "temp_df= pd.DataFrame()\n",
    "temp_df['female_prop'] = proportion_female\n",
    "temp_df['male_prop'] = proportion_male\n",
    "# Now plotting a stacked bar #\n",
    "stacked_bar = temp_df.plot(kind='bar',stacked=True, figsize =(7,7))\n",
    "stacked_bar.set_ylabel('Survival proportion')\n",
    "stacked_bar.set_xlabel('Port of Embarkation')"
   ]
  },
  {
   "cell_type": "code",
   "execution_count": 126,
   "metadata": {},
   "outputs": [],
   "source": [
    "#data_cat['Embarked'].fillna('S', inplace=True)"
   ]
  },
  {
   "cell_type": "code",
   "execution_count": 127,
   "metadata": {},
   "outputs": [
    {
     "data": {
      "text/plain": [
       "Sex         False\n",
       "Embarked    False\n",
       "dtype: bool"
      ]
     },
     "execution_count": 127,
     "metadata": {},
     "output_type": "execute_result"
    }
   ],
   "source": [
    "data_cat.isnull().any(axis=0)"
   ]
  },
  {
   "cell_type": "code",
   "execution_count": 128,
   "metadata": {},
   "outputs": [],
   "source": [
    "try:\n",
    "    from sklearn.preprocessing import OrdinalEncoder\n",
    "except ImportError:\n",
    "    from future_encoders import OrdinalEncoder # Scikit-Learn < 0.20"
   ]
  },
  {
   "cell_type": "code",
   "execution_count": 129,
   "metadata": {},
   "outputs": [
    {
     "name": "stdout",
     "output_type": "stream",
     "text": [
      "(1309, 2)\n"
     ]
    },
    {
     "data": {
      "text/plain": [
       "array([[1., 2.],\n",
       "       [0., 0.],\n",
       "       [0., 2.],\n",
       "       [0., 2.],\n",
       "       [1., 2.],\n",
       "       [1., 1.],\n",
       "       [1., 2.],\n",
       "       [1., 2.],\n",
       "       [0., 2.],\n",
       "       [0., 0.]])"
      ]
     },
     "execution_count": 129,
     "metadata": {},
     "output_type": "execute_result"
    }
   ],
   "source": [
    "ordinal_encoder = OrdinalEncoder()\n",
    "data_cat_encoded = ordinal_encoder.fit_transform(data_cat)\n",
    "print(data_cat_encoded.shape)\n",
    "data_cat_encoded[:10]"
   ]
  },
  {
   "cell_type": "code",
   "execution_count": 130,
   "metadata": {},
   "outputs": [
    {
     "data": {
      "text/plain": [
       "[array(['female', 'male'], dtype=object), array(['C', 'Q', 'S'], dtype=object)]"
      ]
     },
     "execution_count": 130,
     "metadata": {},
     "output_type": "execute_result"
    }
   ],
   "source": [
    "ordinal_encoder.categories_"
   ]
  },
  {
   "cell_type": "code",
   "execution_count": 131,
   "metadata": {},
   "outputs": [
    {
     "data": {
      "text/html": [
       "<div>\n",
       "<style scoped>\n",
       "    .dataframe tbody tr th:only-of-type {\n",
       "        vertical-align: middle;\n",
       "    }\n",
       "\n",
       "    .dataframe tbody tr th {\n",
       "        vertical-align: top;\n",
       "    }\n",
       "\n",
       "    .dataframe thead th {\n",
       "        text-align: right;\n",
       "    }\n",
       "</style>\n",
       "<table border=\"1\" class=\"dataframe\">\n",
       "  <thead>\n",
       "    <tr style=\"text-align: right;\">\n",
       "      <th></th>\n",
       "      <th>Sex</th>\n",
       "      <th>Embarked</th>\n",
       "    </tr>\n",
       "  </thead>\n",
       "  <tbody>\n",
       "    <tr>\n",
       "      <th>0</th>\n",
       "      <td>1.0</td>\n",
       "      <td>2.0</td>\n",
       "    </tr>\n",
       "    <tr>\n",
       "      <th>1</th>\n",
       "      <td>0.0</td>\n",
       "      <td>0.0</td>\n",
       "    </tr>\n",
       "    <tr>\n",
       "      <th>2</th>\n",
       "      <td>0.0</td>\n",
       "      <td>2.0</td>\n",
       "    </tr>\n",
       "    <tr>\n",
       "      <th>3</th>\n",
       "      <td>0.0</td>\n",
       "      <td>2.0</td>\n",
       "    </tr>\n",
       "    <tr>\n",
       "      <th>4</th>\n",
       "      <td>1.0</td>\n",
       "      <td>2.0</td>\n",
       "    </tr>\n",
       "    <tr>\n",
       "      <th>...</th>\n",
       "      <td>...</td>\n",
       "      <td>...</td>\n",
       "    </tr>\n",
       "    <tr>\n",
       "      <th>1304</th>\n",
       "      <td>1.0</td>\n",
       "      <td>2.0</td>\n",
       "    </tr>\n",
       "    <tr>\n",
       "      <th>1305</th>\n",
       "      <td>0.0</td>\n",
       "      <td>0.0</td>\n",
       "    </tr>\n",
       "    <tr>\n",
       "      <th>1306</th>\n",
       "      <td>1.0</td>\n",
       "      <td>2.0</td>\n",
       "    </tr>\n",
       "    <tr>\n",
       "      <th>1307</th>\n",
       "      <td>1.0</td>\n",
       "      <td>2.0</td>\n",
       "    </tr>\n",
       "    <tr>\n",
       "      <th>1308</th>\n",
       "      <td>1.0</td>\n",
       "      <td>0.0</td>\n",
       "    </tr>\n",
       "  </tbody>\n",
       "</table>\n",
       "<p>1309 rows × 2 columns</p>\n",
       "</div>"
      ],
      "text/plain": [
       "      Sex  Embarked\n",
       "0     1.0       2.0\n",
       "1     0.0       0.0\n",
       "2     0.0       2.0\n",
       "3     0.0       2.0\n",
       "4     1.0       2.0\n",
       "...   ...       ...\n",
       "1304  1.0       2.0\n",
       "1305  0.0       0.0\n",
       "1306  1.0       2.0\n",
       "1307  1.0       2.0\n",
       "1308  1.0       0.0\n",
       "\n",
       "[1309 rows x 2 columns]"
      ]
     },
     "execution_count": 131,
     "metadata": {},
     "output_type": "execute_result"
    }
   ],
   "source": [
    "cat_tr = pd.DataFrame(data_cat_encoded, columns=data_cat.columns,\n",
    "                          index=data_cat.index)\n",
    "cat_tr"
   ]
  },
  {
   "cell_type": "code",
   "execution_count": 132,
   "metadata": {},
   "outputs": [],
   "source": [
    "data_cont=data_tr[['Age','Fare']]\n",
    "data_numi=data_tr.drop(data_cont, axis=1)"
   ]
  },
  {
   "cell_type": "code",
   "execution_count": 133,
   "metadata": {},
   "outputs": [
    {
     "name": "stdout",
     "output_type": "stream",
     "text": [
      "(1309, 2)\n"
     ]
    },
    {
     "data": {
      "text/html": [
       "<div>\n",
       "<style scoped>\n",
       "    .dataframe tbody tr th:only-of-type {\n",
       "        vertical-align: middle;\n",
       "    }\n",
       "\n",
       "    .dataframe tbody tr th {\n",
       "        vertical-align: top;\n",
       "    }\n",
       "\n",
       "    .dataframe thead th {\n",
       "        text-align: right;\n",
       "    }\n",
       "</style>\n",
       "<table border=\"1\" class=\"dataframe\">\n",
       "  <thead>\n",
       "    <tr style=\"text-align: right;\">\n",
       "      <th></th>\n",
       "      <th>Age</th>\n",
       "      <th>Fare</th>\n",
       "    </tr>\n",
       "  </thead>\n",
       "  <tbody>\n",
       "    <tr>\n",
       "      <th>0</th>\n",
       "      <td>-0.611972</td>\n",
       "      <td>-0.503595</td>\n",
       "    </tr>\n",
       "    <tr>\n",
       "      <th>1</th>\n",
       "      <td>0.630431</td>\n",
       "      <td>0.734503</td>\n",
       "    </tr>\n",
       "  </tbody>\n",
       "</table>\n",
       "</div>"
      ],
      "text/plain": [
       "        Age      Fare\n",
       "0 -0.611972 -0.503595\n",
       "1  0.630431  0.734503"
      ]
     },
     "execution_count": 133,
     "metadata": {},
     "output_type": "execute_result"
    }
   ],
   "source": [
    "from sklearn import preprocessing\n",
    "from sklearn.preprocessing import StandardScaler\n",
    "scaler = StandardScaler()\n",
    "data_sc = pd.DataFrame(scaler.fit_transform(data_cont))\n",
    "data_sc.columns = ['Age','Fare']\n",
    "print(data_sc.shape)\n",
    "data_sc.head(2)"
   ]
  },
  {
   "cell_type": "code",
   "execution_count": 134,
   "metadata": {},
   "outputs": [
    {
     "data": {
      "text/html": [
       "<div>\n",
       "<style scoped>\n",
       "    .dataframe tbody tr th:only-of-type {\n",
       "        vertical-align: middle;\n",
       "    }\n",
       "\n",
       "    .dataframe tbody tr th {\n",
       "        vertical-align: top;\n",
       "    }\n",
       "\n",
       "    .dataframe thead th {\n",
       "        text-align: right;\n",
       "    }\n",
       "</style>\n",
       "<table border=\"1\" class=\"dataframe\">\n",
       "  <thead>\n",
       "    <tr style=\"text-align: right;\">\n",
       "      <th></th>\n",
       "      <th>Survived</th>\n",
       "      <th>Pclass</th>\n",
       "      <th>SibSp</th>\n",
       "      <th>Parch</th>\n",
       "      <th>Sex</th>\n",
       "      <th>Embarked</th>\n",
       "      <th>Age</th>\n",
       "      <th>Fare</th>\n",
       "    </tr>\n",
       "  </thead>\n",
       "  <tbody>\n",
       "    <tr>\n",
       "      <th>0</th>\n",
       "      <td>0.0</td>\n",
       "      <td>3.0</td>\n",
       "      <td>1.0</td>\n",
       "      <td>0.0</td>\n",
       "      <td>1.0</td>\n",
       "      <td>2.0</td>\n",
       "      <td>-0.611972</td>\n",
       "      <td>-0.503595</td>\n",
       "    </tr>\n",
       "    <tr>\n",
       "      <th>1</th>\n",
       "      <td>1.0</td>\n",
       "      <td>1.0</td>\n",
       "      <td>1.0</td>\n",
       "      <td>0.0</td>\n",
       "      <td>0.0</td>\n",
       "      <td>0.0</td>\n",
       "      <td>0.630431</td>\n",
       "      <td>0.734503</td>\n",
       "    </tr>\n",
       "    <tr>\n",
       "      <th>2</th>\n",
       "      <td>1.0</td>\n",
       "      <td>3.0</td>\n",
       "      <td>0.0</td>\n",
       "      <td>0.0</td>\n",
       "      <td>0.0</td>\n",
       "      <td>2.0</td>\n",
       "      <td>-0.301371</td>\n",
       "      <td>-0.490544</td>\n",
       "    </tr>\n",
       "    <tr>\n",
       "      <th>3</th>\n",
       "      <td>1.0</td>\n",
       "      <td>1.0</td>\n",
       "      <td>1.0</td>\n",
       "      <td>0.0</td>\n",
       "      <td>0.0</td>\n",
       "      <td>2.0</td>\n",
       "      <td>0.397481</td>\n",
       "      <td>0.382925</td>\n",
       "    </tr>\n",
       "    <tr>\n",
       "      <th>4</th>\n",
       "      <td>0.0</td>\n",
       "      <td>3.0</td>\n",
       "      <td>0.0</td>\n",
       "      <td>0.0</td>\n",
       "      <td>1.0</td>\n",
       "      <td>2.0</td>\n",
       "      <td>0.397481</td>\n",
       "      <td>-0.488127</td>\n",
       "    </tr>\n",
       "    <tr>\n",
       "      <th>...</th>\n",
       "      <td>...</td>\n",
       "      <td>...</td>\n",
       "      <td>...</td>\n",
       "      <td>...</td>\n",
       "      <td>...</td>\n",
       "      <td>...</td>\n",
       "      <td>...</td>\n",
       "      <td>...</td>\n",
       "    </tr>\n",
       "    <tr>\n",
       "      <th>1304</th>\n",
       "      <td>0.0</td>\n",
       "      <td>3.0</td>\n",
       "      <td>0.0</td>\n",
       "      <td>0.0</td>\n",
       "      <td>1.0</td>\n",
       "      <td>2.0</td>\n",
       "      <td>0.000000</td>\n",
       "      <td>-0.488127</td>\n",
       "    </tr>\n",
       "    <tr>\n",
       "      <th>1305</th>\n",
       "      <td>1.0</td>\n",
       "      <td>1.0</td>\n",
       "      <td>0.0</td>\n",
       "      <td>0.0</td>\n",
       "      <td>0.0</td>\n",
       "      <td>0.0</td>\n",
       "      <td>0.708081</td>\n",
       "      <td>1.461829</td>\n",
       "    </tr>\n",
       "    <tr>\n",
       "      <th>1306</th>\n",
       "      <td>0.0</td>\n",
       "      <td>3.0</td>\n",
       "      <td>0.0</td>\n",
       "      <td>0.0</td>\n",
       "      <td>1.0</td>\n",
       "      <td>2.0</td>\n",
       "      <td>0.669256</td>\n",
       "      <td>-0.503595</td>\n",
       "    </tr>\n",
       "    <tr>\n",
       "      <th>1307</th>\n",
       "      <td>1.0</td>\n",
       "      <td>3.0</td>\n",
       "      <td>0.0</td>\n",
       "      <td>0.0</td>\n",
       "      <td>1.0</td>\n",
       "      <td>2.0</td>\n",
       "      <td>0.000000</td>\n",
       "      <td>-0.488127</td>\n",
       "    </tr>\n",
       "    <tr>\n",
       "      <th>1308</th>\n",
       "      <td>1.0</td>\n",
       "      <td>3.0</td>\n",
       "      <td>1.0</td>\n",
       "      <td>1.0</td>\n",
       "      <td>1.0</td>\n",
       "      <td>0.0</td>\n",
       "      <td>0.000000</td>\n",
       "      <td>-0.211473</td>\n",
       "    </tr>\n",
       "  </tbody>\n",
       "</table>\n",
       "<p>1309 rows × 8 columns</p>\n",
       "</div>"
      ],
      "text/plain": [
       "      Survived  Pclass  SibSp  Parch  Sex  Embarked       Age      Fare\n",
       "0          0.0     3.0    1.0    0.0  1.0       2.0 -0.611972 -0.503595\n",
       "1          1.0     1.0    1.0    0.0  0.0       0.0  0.630431  0.734503\n",
       "2          1.0     3.0    0.0    0.0  0.0       2.0 -0.301371 -0.490544\n",
       "3          1.0     1.0    1.0    0.0  0.0       2.0  0.397481  0.382925\n",
       "4          0.0     3.0    0.0    0.0  1.0       2.0  0.397481 -0.488127\n",
       "...        ...     ...    ...    ...  ...       ...       ...       ...\n",
       "1304       0.0     3.0    0.0    0.0  1.0       2.0  0.000000 -0.488127\n",
       "1305       1.0     1.0    0.0    0.0  0.0       0.0  0.708081  1.461829\n",
       "1306       0.0     3.0    0.0    0.0  1.0       2.0  0.669256 -0.503595\n",
       "1307       1.0     3.0    0.0    0.0  1.0       2.0  0.000000 -0.488127\n",
       "1308       1.0     3.0    1.0    1.0  1.0       0.0  0.000000 -0.211473\n",
       "\n",
       "[1309 rows x 8 columns]"
      ]
     },
     "execution_count": 134,
     "metadata": {},
     "output_type": "execute_result"
    }
   ],
   "source": [
    "df_list = [data_numi,cat_tr,data_sc]\n",
    "data_full = pd.concat(df_list,axis = 1)\n",
    "data_full.drop([\"PassengerId\"], axis=1, inplace=True)\n",
    "data_full"
   ]
  },
  {
   "cell_type": "code",
   "execution_count": 135,
   "metadata": {},
   "outputs": [],
   "source": [
    "# For illustration only. Sklearn has train_test_split()\n",
    "def split_train_test(data, test_ratio):\n",
    "    shuffled_indices = np.random.permutation(len(data))\n",
    "    test_set_size = int(len(data) * test_ratio)\n",
    "    test_indices = shuffled_indices[:test_set_size]\n",
    "    train_indices = shuffled_indices[test_set_size:]\n",
    "    return data.iloc[train_indices], data.iloc[test_indices]"
   ]
  },
  {
   "cell_type": "code",
   "execution_count": 136,
   "metadata": {},
   "outputs": [
    {
     "name": "stdout",
     "output_type": "stream",
     "text": [
      "1074 train + 235 test\n"
     ]
    }
   ],
   "source": [
    "train_valid_set, test_set = split_train_test(data_full, 0.18)\n",
    "print(len(train_valid_set), \"train +\", len(test_set), \"test\")"
   ]
  },
  {
   "cell_type": "code",
   "execution_count": 137,
   "metadata": {},
   "outputs": [
    {
     "name": "stdout",
     "output_type": "stream",
     "text": [
      "881 train + 193 test\n"
     ]
    }
   ],
   "source": [
    "train_set, valid_set = split_train_test(train_valid_set, 0.18)\n",
    "print(len(train_set), \"train +\", len(valid_set), \"test\")"
   ]
  },
  {
   "cell_type": "code",
   "execution_count": 138,
   "metadata": {},
   "outputs": [],
   "source": [
    "train_X= train_set.drop([\"Survived\"],axis = 1)\n",
    "train_Y = train_set[\"Survived\"]\n",
    "\n",
    "valid_X= valid_set.drop([\"Survived\"],axis = 1)\n",
    "valid_Y = valid_set[\"Survived\"]\n",
    "\n",
    "test_X= test_set.drop([\"Survived\"],axis = 1)\n",
    "test_Y = test_set[\"Survived\"]"
   ]
  },
  {
   "cell_type": "markdown",
   "metadata": {},
   "source": [
    "# Part2B: Gradient Boosting Implementation on Part1A preprocessed data"
   ]
  },
  {
   "cell_type": "code",
   "execution_count": 255,
   "metadata": {},
   "outputs": [
    {
     "data": {
      "text/plain": [
       "GradientBoostingClassifier(ccp_alpha=0.0, criterion='friedman_mse', init=None,\n",
       "                           learning_rate=0.5, loss='deviance', max_depth=2,\n",
       "                           max_features=2, max_leaf_nodes=None,\n",
       "                           min_impurity_decrease=0.0, min_impurity_split=None,\n",
       "                           min_samples_leaf=1, min_samples_split=2,\n",
       "                           min_weight_fraction_leaf=0.0, n_estimators=20,\n",
       "                           n_iter_no_change=None, presort='deprecated',\n",
       "                           random_state=7, subsample=1.0, tol=0.0001,\n",
       "                           validation_fraction=0.1, verbose=0,\n",
       "                           warm_start=False)"
      ]
     },
     "execution_count": 255,
     "metadata": {},
     "output_type": "execute_result"
    }
   ],
   "source": [
    "gbrt = GB(n_estimators=20, learning_rate = 0.5, max_features=2, max_depth = 2, random_state = 7)\n",
    "gbrt.fit(train_X, train_Y)"
   ]
  },
  {
   "cell_type": "code",
   "execution_count": 256,
   "metadata": {},
   "outputs": [
    {
     "data": {
      "text/plain": [
       "0.6683937823834197"
      ]
     },
     "execution_count": 256,
     "metadata": {},
     "output_type": "execute_result"
    }
   ],
   "source": [
    "from sklearn.metrics import accuracy_score\n",
    "y_prd = gbrt.predict(valid_X)\n",
    "accuracy_score(valid_Y, y_prd.round())"
   ]
  },
  {
   "cell_type": "markdown",
   "metadata": {},
   "source": [
    "plt.figure(figsize=(12,6))\n",
    "plt.title('Gradient Boosting Model')\n",
    "plt.scatter(valid_Y, train_Y)\n",
    "plt.plot(train_X,gbrt.predict(valid_X), color='black')\n",
    "plt.show()"
   ]
  },
  {
   "cell_type": "code",
   "execution_count": 257,
   "metadata": {},
   "outputs": [
    {
     "data": {
      "text/plain": [
       "array([0.08819896, 0.08173873, 0.0344562 , 0.42843664, 0.01477629,\n",
       "       0.1539834 , 0.19840978])"
      ]
     },
     "execution_count": 257,
     "metadata": {},
     "output_type": "execute_result"
    }
   ],
   "source": [
    "gbrt.feature_importances_"
   ]
  },
  {
   "cell_type": "code",
   "execution_count": 258,
   "metadata": {},
   "outputs": [
    {
     "name": "stdout",
     "output_type": "stream",
     "text": [
      "Confusion Matrix:\n",
      "[[102  25]\n",
      " [ 39  27]]\n",
      "\n",
      "Classification Report\n",
      "              precision    recall  f1-score   support\n",
      "\n",
      "         0.0       0.72      0.80      0.76       127\n",
      "         1.0       0.52      0.41      0.46        66\n",
      "\n",
      "    accuracy                           0.67       193\n",
      "   macro avg       0.62      0.61      0.61       193\n",
      "weighted avg       0.65      0.67      0.66       193\n",
      "\n"
     ]
    }
   ],
   "source": [
    "from sklearn.metrics import classification_report\n",
    "print(\"Confusion Matrix:\")\n",
    "print(confusion_matrix(valid_Y, y_prd))\n",
    "print()\n",
    "print(\"Classification Report\")\n",
    "print(classification_report(valid_Y, y_prd))"
   ]
  },
  {
   "cell_type": "code",
   "execution_count": 259,
   "metadata": {},
   "outputs": [
    {
     "name": "stdout",
     "output_type": "stream",
     "text": [
      "Area under ROC curve = 0.72\n"
     ]
    }
   ],
   "source": [
    "# ROC curve and Area-Under-Curve (AUC)\n",
    "\n",
    "y_scores_gb = gbrt.decision_function(valid_X)\n",
    "fpr_gb, tpr_gb, _ = roc_curve(valid_Y, y_scores_gb)\n",
    "roc_auc_gb = auc(fpr_gb, tpr_gb)\n",
    "\n",
    "print(\"Area under ROC curve = {:0.2f}\".format(roc_auc_gb))"
   ]
  },
  {
   "cell_type": "markdown",
   "metadata": {},
   "source": [
    "# HyperParameter Tuning(n estimators, learning rate...)"
   ]
  },
  {
   "cell_type": "code",
   "execution_count": 260,
   "metadata": {},
   "outputs": [
    {
     "name": "stdout",
     "output_type": "stream",
     "text": [
      "Learning rate:  0.05\n",
      "n_estimators:  1\n",
      "Accuracy score (training): 0.605\n",
      "Accuracy score (validation): 0.658\n",
      "Accuracy score (testing): 0.613\n",
      "\n",
      "Learning rate:  0.05\n",
      "n_estimators:  2\n",
      "Accuracy score (training): 0.605\n",
      "Accuracy score (validation): 0.658\n",
      "Accuracy score (testing): 0.613\n",
      "\n",
      "Learning rate:  0.05\n",
      "n_estimators:  4\n",
      "Accuracy score (training): 0.605\n",
      "Accuracy score (validation): 0.658\n",
      "Accuracy score (testing): 0.613\n",
      "\n",
      "Learning rate:  0.05\n",
      "n_estimators:  8\n",
      "Accuracy score (training): 0.649\n",
      "Accuracy score (validation): 0.648\n",
      "Accuracy score (testing): 0.630\n",
      "\n",
      "Learning rate:  0.05\n",
      "n_estimators:  16\n",
      "Accuracy score (training): 0.706\n",
      "Accuracy score (validation): 0.699\n",
      "Accuracy score (testing): 0.672\n",
      "\n",
      "Learning rate:  0.05\n",
      "n_estimators:  32\n",
      "Accuracy score (training): 0.726\n",
      "Accuracy score (validation): 0.705\n",
      "Accuracy score (testing): 0.694\n",
      "\n",
      "Learning rate:  0.05\n",
      "n_estimators:  64\n",
      "Accuracy score (training): 0.740\n",
      "Accuracy score (validation): 0.679\n",
      "Accuracy score (testing): 0.689\n",
      "\n",
      "Learning rate:  0.05\n",
      "n_estimators:  100\n",
      "Accuracy score (training): 0.746\n",
      "Accuracy score (validation): 0.689\n",
      "Accuracy score (testing): 0.702\n",
      "\n",
      "Learning rate:  0.05\n",
      "n_estimators:  200\n",
      "Accuracy score (training): 0.753\n",
      "Accuracy score (validation): 0.679\n",
      "Accuracy score (testing): 0.711\n",
      "\n",
      "Learning rate:  0.1\n",
      "n_estimators:  1\n",
      "Accuracy score (training): 0.605\n",
      "Accuracy score (validation): 0.658\n",
      "Accuracy score (testing): 0.613\n",
      "\n",
      "Learning rate:  0.1\n",
      "n_estimators:  2\n",
      "Accuracy score (training): 0.605\n",
      "Accuracy score (validation): 0.658\n",
      "Accuracy score (testing): 0.613\n",
      "\n",
      "Learning rate:  0.1\n",
      "n_estimators:  4\n",
      "Accuracy score (training): 0.622\n",
      "Accuracy score (validation): 0.653\n",
      "Accuracy score (testing): 0.621\n",
      "\n",
      "Learning rate:  0.1\n",
      "n_estimators:  8\n",
      "Accuracy score (training): 0.728\n",
      "Accuracy score (validation): 0.694\n",
      "Accuracy score (testing): 0.681\n",
      "\n",
      "Learning rate:  0.1\n",
      "n_estimators:  16\n",
      "Accuracy score (training): 0.730\n",
      "Accuracy score (validation): 0.694\n",
      "Accuracy score (testing): 0.689\n",
      "\n",
      "Learning rate:  0.1\n",
      "n_estimators:  32\n",
      "Accuracy score (training): 0.737\n",
      "Accuracy score (validation): 0.668\n",
      "Accuracy score (testing): 0.706\n",
      "\n",
      "Learning rate:  0.1\n",
      "n_estimators:  64\n",
      "Accuracy score (training): 0.748\n",
      "Accuracy score (validation): 0.694\n",
      "Accuracy score (testing): 0.702\n",
      "\n",
      "Learning rate:  0.1\n",
      "n_estimators:  100\n",
      "Accuracy score (training): 0.754\n",
      "Accuracy score (validation): 0.689\n",
      "Accuracy score (testing): 0.702\n",
      "\n",
      "Learning rate:  0.1\n",
      "n_estimators:  200\n",
      "Accuracy score (training): 0.766\n",
      "Accuracy score (validation): 0.689\n",
      "Accuracy score (testing): 0.711\n",
      "\n",
      "Learning rate:  0.25\n",
      "n_estimators:  1\n",
      "Accuracy score (training): 0.605\n",
      "Accuracy score (validation): 0.658\n",
      "Accuracy score (testing): 0.613\n",
      "\n",
      "Learning rate:  0.25\n",
      "n_estimators:  2\n",
      "Accuracy score (training): 0.648\n",
      "Accuracy score (validation): 0.648\n",
      "Accuracy score (testing): 0.617\n",
      "\n",
      "Learning rate:  0.25\n",
      "n_estimators:  4\n",
      "Accuracy score (training): 0.719\n",
      "Accuracy score (validation): 0.674\n",
      "Accuracy score (testing): 0.677\n",
      "\n",
      "Learning rate:  0.25\n",
      "n_estimators:  8\n",
      "Accuracy score (training): 0.731\n",
      "Accuracy score (validation): 0.694\n",
      "Accuracy score (testing): 0.681\n",
      "\n",
      "Learning rate:  0.25\n",
      "n_estimators:  16\n",
      "Accuracy score (training): 0.743\n",
      "Accuracy score (validation): 0.684\n",
      "Accuracy score (testing): 0.698\n",
      "\n",
      "Learning rate:  0.25\n",
      "n_estimators:  32\n",
      "Accuracy score (training): 0.746\n",
      "Accuracy score (validation): 0.679\n",
      "Accuracy score (testing): 0.702\n",
      "\n",
      "Learning rate:  0.25\n",
      "n_estimators:  64\n",
      "Accuracy score (training): 0.764\n",
      "Accuracy score (validation): 0.689\n",
      "Accuracy score (testing): 0.698\n",
      "\n",
      "Learning rate:  0.25\n",
      "n_estimators:  100\n",
      "Accuracy score (training): 0.772\n",
      "Accuracy score (validation): 0.684\n",
      "Accuracy score (testing): 0.715\n",
      "\n",
      "Learning rate:  0.25\n",
      "n_estimators:  200\n",
      "Accuracy score (training): 0.801\n",
      "Accuracy score (validation): 0.699\n",
      "Accuracy score (testing): 0.698\n",
      "\n",
      "Learning rate:  0.5\n",
      "n_estimators:  1\n",
      "Accuracy score (training): 0.641\n",
      "Accuracy score (validation): 0.653\n",
      "Accuracy score (testing): 0.626\n",
      "\n",
      "Learning rate:  0.5\n",
      "n_estimators:  2\n",
      "Accuracy score (training): 0.705\n",
      "Accuracy score (validation): 0.658\n",
      "Accuracy score (testing): 0.677\n",
      "\n",
      "Learning rate:  0.5\n",
      "n_estimators:  4\n",
      "Accuracy score (training): 0.719\n",
      "Accuracy score (validation): 0.668\n",
      "Accuracy score (testing): 0.681\n",
      "\n",
      "Learning rate:  0.5\n",
      "n_estimators:  8\n",
      "Accuracy score (training): 0.726\n",
      "Accuracy score (validation): 0.668\n",
      "Accuracy score (testing): 0.702\n",
      "\n",
      "Learning rate:  0.5\n",
      "n_estimators:  16\n",
      "Accuracy score (training): 0.743\n",
      "Accuracy score (validation): 0.679\n",
      "Accuracy score (testing): 0.702\n",
      "\n",
      "Learning rate:  0.5\n",
      "n_estimators:  32\n",
      "Accuracy score (training): 0.756\n",
      "Accuracy score (validation): 0.674\n",
      "Accuracy score (testing): 0.698\n",
      "\n",
      "Learning rate:  0.5\n",
      "n_estimators:  64\n",
      "Accuracy score (training): 0.774\n",
      "Accuracy score (validation): 0.689\n",
      "Accuracy score (testing): 0.711\n",
      "\n",
      "Learning rate:  0.5\n",
      "n_estimators:  100\n",
      "Accuracy score (training): 0.793\n",
      "Accuracy score (validation): 0.684\n",
      "Accuracy score (testing): 0.694\n",
      "\n",
      "Learning rate:  0.5\n",
      "n_estimators:  200\n",
      "Accuracy score (training): 0.834\n",
      "Accuracy score (validation): 0.731\n",
      "Accuracy score (testing): 0.685\n",
      "\n",
      "Learning rate:  0.75\n",
      "n_estimators:  1\n",
      "Accuracy score (training): 0.641\n",
      "Accuracy score (validation): 0.653\n",
      "Accuracy score (testing): 0.626\n",
      "\n",
      "Learning rate:  0.75\n",
      "n_estimators:  2\n",
      "Accuracy score (training): 0.705\n",
      "Accuracy score (validation): 0.658\n",
      "Accuracy score (testing): 0.677\n",
      "\n",
      "Learning rate:  0.75\n",
      "n_estimators:  4\n",
      "Accuracy score (training): 0.715\n",
      "Accuracy score (validation): 0.653\n",
      "Accuracy score (testing): 0.681\n",
      "\n",
      "Learning rate:  0.75\n",
      "n_estimators:  8\n",
      "Accuracy score (training): 0.731\n",
      "Accuracy score (validation): 0.679\n",
      "Accuracy score (testing): 0.694\n",
      "\n",
      "Learning rate:  0.75\n",
      "n_estimators:  16\n",
      "Accuracy score (training): 0.754\n",
      "Accuracy score (validation): 0.694\n",
      "Accuracy score (testing): 0.702\n",
      "\n",
      "Learning rate:  0.75\n",
      "n_estimators:  32\n",
      "Accuracy score (training): 0.773\n",
      "Accuracy score (validation): 0.668\n",
      "Accuracy score (testing): 0.715\n",
      "\n",
      "Learning rate:  0.75\n",
      "n_estimators:  64\n",
      "Accuracy score (training): 0.800\n",
      "Accuracy score (validation): 0.689\n",
      "Accuracy score (testing): 0.672\n",
      "\n",
      "Learning rate:  0.75\n",
      "n_estimators:  100\n",
      "Accuracy score (training): 0.820\n",
      "Accuracy score (validation): 0.674\n",
      "Accuracy score (testing): 0.677\n",
      "\n",
      "Learning rate:  0.75\n",
      "n_estimators:  200\n",
      "Accuracy score (training): 0.860\n",
      "Accuracy score (validation): 0.715\n",
      "Accuracy score (testing): 0.651\n",
      "\n",
      "Learning rate:  1\n",
      "n_estimators:  1\n",
      "Accuracy score (training): 0.642\n",
      "Accuracy score (validation): 0.642\n",
      "Accuracy score (testing): 0.630\n",
      "\n",
      "Learning rate:  1\n",
      "n_estimators:  2\n",
      "Accuracy score (training): 0.705\n",
      "Accuracy score (validation): 0.658\n",
      "Accuracy score (testing): 0.677\n",
      "\n",
      "Learning rate:  1\n",
      "n_estimators:  4\n",
      "Accuracy score (training): 0.731\n",
      "Accuracy score (validation): 0.684\n",
      "Accuracy score (testing): 0.702\n",
      "\n",
      "Learning rate:  1\n",
      "n_estimators:  8\n",
      "Accuracy score (training): 0.746\n",
      "Accuracy score (validation): 0.684\n",
      "Accuracy score (testing): 0.689\n",
      "\n",
      "Learning rate:  1\n",
      "n_estimators:  16\n",
      "Accuracy score (training): 0.753\n",
      "Accuracy score (validation): 0.658\n",
      "Accuracy score (testing): 0.677\n",
      "\n",
      "Learning rate:  1\n",
      "n_estimators:  32\n",
      "Accuracy score (training): 0.765\n",
      "Accuracy score (validation): 0.663\n",
      "Accuracy score (testing): 0.698\n",
      "\n",
      "Learning rate:  1\n",
      "n_estimators:  64\n",
      "Accuracy score (training): 0.807\n",
      "Accuracy score (validation): 0.689\n",
      "Accuracy score (testing): 0.672\n",
      "\n",
      "Learning rate:  1\n",
      "n_estimators:  100\n",
      "Accuracy score (training): 0.840\n",
      "Accuracy score (validation): 0.699\n",
      "Accuracy score (testing): 0.668\n",
      "\n",
      "Learning rate:  1\n",
      "n_estimators:  200\n",
      "Accuracy score (training): 0.869\n",
      "Accuracy score (validation): 0.674\n",
      "Accuracy score (testing): 0.630\n",
      "\n"
     ]
    }
   ],
   "source": [
    "from sklearn.ensemble import GradientBoostingClassifier\n",
    "learning_rates = [0.05, 0.1, 0.25, 0.5, 0.75, 1]\n",
    "n_estimators = [1, 2, 4, 8, 16, 32, 64, 100, 200]\n",
    "max_test_accuracy_score =[]\n",
    "for learning_rate in learning_rates:\n",
    "    for estimator in n_estimators:\n",
    "        gb = GradientBoostingClassifier(n_estimators=estimator, learning_rate = learning_rate, max_features=2, max_depth = 2, random_state = 0)\n",
    "        gb.fit(train_X, train_Y)\n",
    "        print(\"Learning rate: \", learning_rate)\n",
    "        print(\"n_estimators: \", estimator)\n",
    "        print(\"Accuracy score (training): {0:.3f}\".format(gb.score(train_X, train_Y)))\n",
    "        print(\"Accuracy score (validation): {0:.3f}\".format(gb.score(valid_X, valid_Y)))\n",
    "        print(\"Accuracy score (testing): {0:.3f}\".format(gb.score(test_X, test_Y)))\n",
    "        max_test_accuracy_score.append(gb.score(test_X, test_Y))\n",
    "        print()\n",
    "        "
   ]
  },
  {
   "cell_type": "code",
   "execution_count": 261,
   "metadata": {},
   "outputs": [
    {
     "data": {
      "text/plain": [
       "25"
      ]
     },
     "execution_count": 261,
     "metadata": {},
     "output_type": "execute_result"
    }
   ],
   "source": [
    "np.argmax(max_test_accuracy_score)"
   ]
  },
  {
   "cell_type": "code",
   "execution_count": 262,
   "metadata": {},
   "outputs": [
    {
     "data": {
      "text/plain": [
       "102"
      ]
     },
     "execution_count": 262,
     "metadata": {},
     "output_type": "execute_result"
    }
   ],
   "source": [
    "from sklearn.metrics import mean_squared_error\n",
    "\n",
    "errors = [mean_squared_error(valid_Y, y_pred)\n",
    "          for y_pred in gb.staged_predict(valid_X)] \n",
    "bst_n_estimators = np.argmin(errors)\n",
    "bst_n_estimators"
   ]
  },
  {
   "cell_type": "markdown",
   "metadata": {},
   "source": [
    "# Alternate approach: Using Warm Start to get the best fit for n_estimators"
   ]
  },
  {
   "cell_type": "code",
   "execution_count": 263,
   "metadata": {},
   "outputs": [
    {
     "name": "stdout",
     "output_type": "stream",
     "text": [
      "1\n",
      "3\n"
     ]
    }
   ],
   "source": [
    "gbrt = GradientBoostingClassifier(max_depth=2, warm_start=True)\n",
    "min_val_error = float(\"inf\") \n",
    "error_going_up = 0 \n",
    "for n_estimators in range(1, 200):    \n",
    "    gbrt.n_estimators = n_estimators    \n",
    "    gbrt.fit(train_X, train_Y)    \n",
    "    y_pred = gbrt.predict(valid_X)    \n",
    "    val_error = mean_squared_error(valid_Y, y_pred)    \n",
    "    if val_error < min_val_error:        \n",
    "        min_val_error = val_error        \n",
    "        error_going_up = 0   \n",
    "        print (n_estimators)\n",
    "    else:        \n",
    "        error_going_up += 1        \n",
    "        if error_going_up == 5:            \n",
    "            break  # early stopping "
   ]
  },
  {
   "cell_type": "code",
   "execution_count": 268,
   "metadata": {},
   "outputs": [
    {
     "data": {
      "text/plain": [
       "GradientBoostingClassifier(ccp_alpha=0.0, criterion='friedman_mse', init=None,\n",
       "                           learning_rate=0.1, loss='deviance', max_depth=2,\n",
       "                           max_features=None, max_leaf_nodes=None,\n",
       "                           min_impurity_decrease=0.0, min_impurity_split=None,\n",
       "                           min_samples_leaf=1, min_samples_split=2,\n",
       "                           min_weight_fraction_leaf=0.0, n_estimators=102,\n",
       "                           n_iter_no_change=None, presort='deprecated',\n",
       "                           random_state=7, subsample=1.0, tol=0.0001,\n",
       "                           validation_fraction=0.1, verbose=0,\n",
       "                           warm_start=False)"
      ]
     },
     "execution_count": 268,
     "metadata": {},
     "output_type": "execute_result"
    }
   ],
   "source": [
    "gbrt_best = GradientBoostingClassifier(max_depth=2,n_estimators=bst_n_estimators,learning_rate = 0.1, random_state=7) \n",
    "gbrt_best.fit(train_X, train_Y)"
   ]
  },
  {
   "cell_type": "code",
   "execution_count": 269,
   "metadata": {},
   "outputs": [],
   "source": [
    "y_prd = gbrt_best.predict(valid_X)"
   ]
  },
  {
   "cell_type": "code",
   "execution_count": 270,
   "metadata": {},
   "outputs": [
    {
     "data": {
      "text/plain": [
       "0.6839378238341969"
      ]
     },
     "execution_count": 270,
     "metadata": {},
     "output_type": "execute_result"
    }
   ],
   "source": [
    "Validation_acc= accuracy_score(valid_Y, y_prd.round())\n",
    "Validation_acc"
   ]
  },
  {
   "cell_type": "markdown",
   "metadata": {},
   "source": [
    "# Evaluating test set accuracy with the trained model"
   ]
  },
  {
   "cell_type": "code",
   "execution_count": 271,
   "metadata": {},
   "outputs": [
    {
     "data": {
      "text/plain": [
       "0.7106382978723405"
      ]
     },
     "execution_count": 271,
     "metadata": {},
     "output_type": "execute_result"
    }
   ],
   "source": [
    "y_tst_prd = gbrt_best.predict(test_X)\n",
    "Test_acc=accuracy_score(test_Y, y_tst_prd.round())\n",
    "Test_acc"
   ]
  },
  {
   "cell_type": "markdown",
   "metadata": {},
   "source": [
    "import matplotlib.pyplot as plt\n",
    "plt.figure(figsize=(8, 4))\n",
    "plt.plot([1]*10, Validation_acc, \".\")\n",
    "plt.plot([2]*10, Test_acc, \".\")\n",
    "plt.boxplot([Validation_acc, Test_acc ], labels=(\"GB Validation Acc\",\"GB Testing Acc\"))\n",
    "plt.ylabel(\"Accuracy\", fontsize=14)\n",
    "plt.show()"
   ]
  },
  {
   "cell_type": "code",
   "execution_count": 272,
   "metadata": {},
   "outputs": [
    {
     "name": "stdout",
     "output_type": "stream",
     "text": [
      "Confusion Matrix: Testing Data\n",
      "[[116  28]\n",
      " [ 40  51]]\n"
     ]
    },
    {
     "data": {
      "text/plain": [
       "<matplotlib.axes._subplots.AxesSubplot at 0x198e538dac8>"
      ]
     },
     "execution_count": 272,
     "metadata": {},
     "output_type": "execute_result"
    },
    {
     "data": {
      "image/png": "[encoded data removed]",
      "text/plain": [
       "<Figure size 576x576 with 2 Axes>"
      ]
     },
     "metadata": {
      "needs_background": "light"
     },
     "output_type": "display_data"
    }
   ],
   "source": [
    "import seaborn as sns\n",
    "from sklearn.metrics import confusion_matrix\n",
    "\n",
    "print(\"Confusion Matrix: Testing Data\")\n",
    "print(confusion_matrix(test_Y, y_tst_prd.round()))\n",
    "gb_cmatrix = confusion_matrix(test_Y, y_tst_prd.round())\n",
    "gb_df = pd.DataFrame(gb_cmatrix)\n",
    "plt.figure(figsize = (8,8))\n",
    "sns.heatmap(gb_df, xticklabels = [\"Unlucky\",\"Survived\"],\n",
    "            yticklabels = [\"Unlucky\",\"Survived\"],annot = True)"
   ]
  },
  {
   "cell_type": "code",
   "execution_count": 273,
   "metadata": {},
   "outputs": [
    {
     "name": "stdout",
     "output_type": "stream",
     "text": [
      "Classification Report\n",
      "              precision    recall  f1-score   support\n",
      "\n",
      "         0.0       0.74      0.81      0.77       144\n",
      "         1.0       0.65      0.56      0.60        91\n",
      "\n",
      "    accuracy                           0.71       235\n",
      "   macro avg       0.69      0.68      0.69       235\n",
      "weighted avg       0.71      0.71      0.71       235\n",
      "\n"
     ]
    }
   ],
   "source": [
    "print(\"Classification Report\")\n",
    "print(classification_report(test_Y, y_tst_prd.round()))"
   ]
  },
  {
   "cell_type": "code",
   "execution_count": 274,
   "metadata": {},
   "outputs": [
    {
     "name": "stdout",
     "output_type": "stream",
     "text": [
      "Area under ROC curve = 0.62\n"
     ]
    }
   ],
   "source": [
    "# ROC curve and Area-Under-Curve (AUC)\n",
    "from sklearn.metrics import confusion_matrix, roc_curve, auc\n",
    "\n",
    "y_tst_scores_gb = gb.decision_function(test_X)\n",
    "tpr_gb,fpr_gb,_ = roc_curve(test_Y, y_tst_scores_gb)\n",
    "roc_auc_gb = auc(tpr_gb,fpr_gb)\n",
    "\n",
    "print(\"Area under ROC curve = {:0.2f}\".format(roc_auc_gb))"
   ]
  },
  {
   "cell_type": "code",
   "execution_count": 275,
   "metadata": {},
   "outputs": [
    {
     "data": {
      "image/png": "[encoded data removed]",
      "text/plain": [
       "<Figure size 432x288 with 1 Axes>"
      ]
     },
     "metadata": {
      "needs_background": "light"
     },
     "output_type": "display_data"
    }
   ],
   "source": [
    "plt.plot([0,1],[0,1],'k--')\n",
    "plt.plot(tpr_gb,fpr_gb, label='GB')\n",
    "plt.xlabel('Fall out')\n",
    "plt.ylabel('True Positive Rate')\n",
    "plt.title('False Positive Rate')\n",
    "plt.show()"
   ]
  },
  {
   "cell_type": "markdown",
   "metadata": {},
   "source": [
    "# Evaluating accuracy on different Classifiers"
   ]
  },
  {
   "cell_type": "code",
   "execution_count": 233,
   "metadata": {},
   "outputs": [
    {
     "name": "stdout",
     "output_type": "stream",
     "text": [
      "RandomForestClassifier--Training Accuracy: 0.73 (+/- 0.04)\n",
      "RandomForestClassifier--Validation Accuracy: 0.70 (+/- 0.04)\n",
      "RandomForestClassifier--testing Accuracy: 0.67 (+/- 0.10)\n",
      "\n",
      "KNeighborsClassifier--Training Accuracy: 0.69 (+/- 0.05)\n",
      "KNeighborsClassifier--Validation Accuracy: 0.64 (+/- 0.09)\n",
      "KNeighborsClassifier--testing Accuracy: 0.63 (+/- 0.07)\n",
      "\n",
      "GradientBoostingClassifier--Training Accuracy: 0.72 (+/- 0.03)\n",
      "GradientBoostingClassifier--Validation Accuracy: 0.69 (+/- 0.09)\n",
      "GradientBoostingClassifier--testing Accuracy: 0.67 (+/- 0.08)\n",
      "\n",
      "AdaBoostClassifier--Training Accuracy: 0.72 (+/- 0.08)\n",
      "AdaBoostClassifier--Validation Accuracy: 0.65 (+/- 0.12)\n",
      "AdaBoostClassifier--testing Accuracy: 0.61 (+/- 0.12)\n",
      "\n",
      "DecisionTreeClassifier--Training Accuracy: 0.67 (+/- 0.04)\n",
      "DecisionTreeClassifier--Validation Accuracy: 0.62 (+/- 0.17)\n",
      "DecisionTreeClassifier--testing Accuracy: 0.57 (+/- 0.10)\n",
      "\n",
      "LogisticRegression--Training Accuracy: 0.72 (+/- 0.02)\n",
      "LogisticRegression--Validation Accuracy: 0.68 (+/- 0.04)\n",
      "LogisticRegression--testing Accuracy: 0.66 (+/- 0.09)\n",
      "\n"
     ]
    }
   ],
   "source": [
    "\n",
    "model_name=['RandomForestClassifier','KNeighborsClassifier','GradientBoostingClassifier','AdaBoostClassifier','DecisionTreeClassifier','LogisticRegression']\n",
    "models_list= [RF(n_estimators=100, max_leaf_nodes=16, n_jobs=-1, random_state=42),KNN(),GB(max_depth=2,n_estimators=100, learning_rate = 0.05),ab(),dt(),LR(solver='liblinear', penalty='l1')]\n",
    "for i, j in zip(model_name, models_list):\n",
    "    scores = cross_val_score(j,train_X, train_Y, cv=5)\n",
    "    score1 = cross_val_score(j,valid_X, valid_Y, cv=5)\n",
    "    score2 = cross_val_score(j,test_X, test_Y, cv=5)\n",
    "    print(i+\"--\"+ \"Training Accuracy: %0.2f (+/- %0.2f)\" % (scores.mean(), scores.std() * 2))\n",
    "    print(i+\"--\"+ \"Validation Accuracy: %0.2f (+/- %0.2f)\" % (score1.mean(), score1.std() * 2))\n",
    "    print(i+\"--\"+ \"testing Accuracy: %0.2f (+/- %0.2f)\" % (score2.mean(), score2.std() * 2))\n",
    "    print()"
   ]
  },
  {
   "cell_type": "markdown",
   "metadata": {},
   "source": [
    "# Part3: Evaluating increasing the number of decision trees (n_estimators), increases classifier performance and/or generalizability."
   ]
  },
  {
   "cell_type": "code",
   "execution_count": 276,
   "metadata": {},
   "outputs": [
    {
     "data": {
      "image/png": "[encoded data removed]",
      "text/plain": [
       "<Figure size 432x288 with 1 Axes>"
      ]
     },
     "metadata": {
      "needs_background": "light"
     },
     "output_type": "display_data"
    }
   ],
   "source": [
    "from matplotlib.legend_handler import HandlerLine2D\n",
    "\n",
    "n_estimators = [1, 2, 4, 8, 16, 32, 64, 100, 200]\n",
    "train_results = []\n",
    "valid_results = []\n",
    "\n",
    "for estimator in n_estimators:\n",
    "    model = GradientBoostingClassifier(n_estimators=estimator)\n",
    "    model.fit(train_X, train_Y)\n",
    "    \n",
    "    train_pred=model.predict(train_X)\n",
    "    fpr, tpr, thresholds= roc_curve(train_Y,train_pred)\n",
    "    roc_auc = auc(fpr, tpr)\n",
    "    train_results.append(roc_auc)\n",
    "    \n",
    "    \n",
    "    y_pred=model.predict(valid_X)\n",
    "    fpr_v, tpr_v, thresholds= roc_curve(valid_Y,y_pred)\n",
    "    roc_auc_v = auc(fpr_v, tpr_v)\n",
    "    valid_results.append(roc_auc_v)\n",
    "    \n",
    "  \n",
    "line1, =plt.plot(n_estimators, train_results, 'b', label=\"Train AUC\")\n",
    "line2, =plt.plot(n_estimators, valid_results, 'r', label=\"Valid AUC\")\n",
    "\n",
    "\n",
    "plt.legend(handler_map={line1: HandlerLine2D(numpoints=2)})\n",
    "plt.ylabel('AUC score')\n",
    "plt.xlabel('n_estimators')\n",
    "plt.show()"
   ]
  },
  {
   "cell_type": "code",
   "execution_count": 277,
   "metadata": {},
   "outputs": [
    {
     "data": {
      "image/png": "[encoded data removed]",
      "text/plain": [
       "<Figure size 432x288 with 1 Axes>"
      ]
     },
     "metadata": {
      "needs_background": "light"
     },
     "output_type": "display_data"
    }
   ],
   "source": [
    "from matplotlib.legend_handler import HandlerLine2D\n",
    "\n",
    "n_estimators = [1, 2, 4, 8, 16, 32, 64, 100, 200]\n",
    "train_results = []\n",
    "test_results = []\n",
    "\n",
    "for estimator in n_estimators:\n",
    "    model = GradientBoostingClassifier(n_estimators=estimator)\n",
    "    model.fit(train_X, train_Y)\n",
    "    \n",
    "    train_pred=model.predict(train_X)\n",
    "    fpr, tpr, thresholds= roc_curve(train_Y,train_pred)\n",
    "    roc_auc = auc(fpr, tpr)\n",
    "    train_results.append(roc_auc)\n",
    "    \n",
    "    \n",
    "    y_prd_test=model.predict(test_X)\n",
    "    fpr_t, tpr_t, thresholds= roc_curve(test_Y,y_prd_test)\n",
    "    roc_auc_t = auc(fpr_t, tpr_t)\n",
    "    test_results.append(roc_auc_t)\n",
    "    \n",
    "line1, =plt.plot(n_estimators, train_results, 'b', label=\"Train AUC\")    \n",
    "line3, =plt.plot(n_estimators, test_results, 'g', label=\"Test AUC\")\n",
    "\n",
    "plt.legend(handler_map={line1: HandlerLine2D(numpoints=2)})\n",
    "plt.ylabel('AUC score')\n",
    "plt.xlabel('n_estimators')\n",
    "plt.show()\n"
   ]
  },
  {
   "cell_type": "markdown",
   "metadata": {},
   "source": [
    "# Hence increasing the number of estimators may result in overfitting also. In our case, using 32 trees is optimal."
   ]
  },
  {
   "cell_type": "markdown",
   "metadata": {},
   "source": [
    "# Part-(1B) Imputation methods using Pivot table(handling numerical data),One Hot Encoder(handling categorical data) and minmax scailing"
   ]
  },
  {
   "cell_type": "code",
   "execution_count": 61,
   "metadata": {},
   "outputs": [],
   "source": [
    "import numpy as np\n",
    "import pandas as pd\n",
    "import seaborn as sns\n",
    "%matplotlib inline"
   ]
  },
  {
   "cell_type": "code",
   "execution_count": 62,
   "metadata": {},
   "outputs": [
    {
     "data": {
      "text/html": [
       "<div>\n",
       "<style scoped>\n",
       "    .dataframe tbody tr th:only-of-type {\n",
       "        vertical-align: middle;\n",
       "    }\n",
       "\n",
       "    .dataframe tbody tr th {\n",
       "        vertical-align: top;\n",
       "    }\n",
       "\n",
       "    .dataframe thead th {\n",
       "        text-align: right;\n",
       "    }\n",
       "</style>\n",
       "<table border=\"1\" class=\"dataframe\">\n",
       "  <thead>\n",
       "    <tr style=\"text-align: right;\">\n",
       "      <th></th>\n",
       "      <th>PassengerId</th>\n",
       "      <th>Survived</th>\n",
       "      <th>Pclass</th>\n",
       "      <th>Name</th>\n",
       "      <th>Sex</th>\n",
       "      <th>Age</th>\n",
       "      <th>SibSp</th>\n",
       "      <th>Parch</th>\n",
       "      <th>Ticket</th>\n",
       "      <th>Fare</th>\n",
       "      <th>Cabin</th>\n",
       "      <th>Embarked</th>\n",
       "    </tr>\n",
       "  </thead>\n",
       "  <tbody>\n",
       "    <tr>\n",
       "      <th>0</th>\n",
       "      <td>1</td>\n",
       "      <td>0</td>\n",
       "      <td>3</td>\n",
       "      <td>Braund, Mr. Owen Harris</td>\n",
       "      <td>male</td>\n",
       "      <td>22.0</td>\n",
       "      <td>1</td>\n",
       "      <td>0</td>\n",
       "      <td>A/5 21171</td>\n",
       "      <td>7.2500</td>\n",
       "      <td>NaN</td>\n",
       "      <td>S</td>\n",
       "    </tr>\n",
       "    <tr>\n",
       "      <th>1</th>\n",
       "      <td>2</td>\n",
       "      <td>1</td>\n",
       "      <td>1</td>\n",
       "      <td>Cumings, Mrs. John Bradley (Florence Briggs Th...</td>\n",
       "      <td>female</td>\n",
       "      <td>38.0</td>\n",
       "      <td>1</td>\n",
       "      <td>0</td>\n",
       "      <td>PC 17599</td>\n",
       "      <td>71.2833</td>\n",
       "      <td>C85</td>\n",
       "      <td>C</td>\n",
       "    </tr>\n",
       "    <tr>\n",
       "      <th>2</th>\n",
       "      <td>3</td>\n",
       "      <td>1</td>\n",
       "      <td>3</td>\n",
       "      <td>Heikkinen, Miss. Laina</td>\n",
       "      <td>female</td>\n",
       "      <td>26.0</td>\n",
       "      <td>0</td>\n",
       "      <td>0</td>\n",
       "      <td>STON/O2. 3101282</td>\n",
       "      <td>7.9250</td>\n",
       "      <td>NaN</td>\n",
       "      <td>S</td>\n",
       "    </tr>\n",
       "    <tr>\n",
       "      <th>3</th>\n",
       "      <td>4</td>\n",
       "      <td>1</td>\n",
       "      <td>1</td>\n",
       "      <td>Futrelle, Mrs. Jacques Heath (Lily May Peel)</td>\n",
       "      <td>female</td>\n",
       "      <td>35.0</td>\n",
       "      <td>1</td>\n",
       "      <td>0</td>\n",
       "      <td>113803</td>\n",
       "      <td>53.1000</td>\n",
       "      <td>C123</td>\n",
       "      <td>S</td>\n",
       "    </tr>\n",
       "    <tr>\n",
       "      <th>4</th>\n",
       "      <td>5</td>\n",
       "      <td>0</td>\n",
       "      <td>3</td>\n",
       "      <td>Allen, Mr. William Henry</td>\n",
       "      <td>male</td>\n",
       "      <td>35.0</td>\n",
       "      <td>0</td>\n",
       "      <td>0</td>\n",
       "      <td>373450</td>\n",
       "      <td>8.0500</td>\n",
       "      <td>NaN</td>\n",
       "      <td>S</td>\n",
       "    </tr>\n",
       "    <tr>\n",
       "      <th>...</th>\n",
       "      <td>...</td>\n",
       "      <td>...</td>\n",
       "      <td>...</td>\n",
       "      <td>...</td>\n",
       "      <td>...</td>\n",
       "      <td>...</td>\n",
       "      <td>...</td>\n",
       "      <td>...</td>\n",
       "      <td>...</td>\n",
       "      <td>...</td>\n",
       "      <td>...</td>\n",
       "      <td>...</td>\n",
       "    </tr>\n",
       "    <tr>\n",
       "      <th>1304</th>\n",
       "      <td>1305</td>\n",
       "      <td>0</td>\n",
       "      <td>3</td>\n",
       "      <td>Spector, Mr. Woolf</td>\n",
       "      <td>male</td>\n",
       "      <td>NaN</td>\n",
       "      <td>0</td>\n",
       "      <td>0</td>\n",
       "      <td>A.5. 3236</td>\n",
       "      <td>8.0500</td>\n",
       "      <td>NaN</td>\n",
       "      <td>S</td>\n",
       "    </tr>\n",
       "    <tr>\n",
       "      <th>1305</th>\n",
       "      <td>1306</td>\n",
       "      <td>1</td>\n",
       "      <td>1</td>\n",
       "      <td>Oliva y Ocana, Dona. Fermina</td>\n",
       "      <td>female</td>\n",
       "      <td>39.0</td>\n",
       "      <td>0</td>\n",
       "      <td>0</td>\n",
       "      <td>PC 17758</td>\n",
       "      <td>108.9000</td>\n",
       "      <td>C105</td>\n",
       "      <td>C</td>\n",
       "    </tr>\n",
       "    <tr>\n",
       "      <th>1306</th>\n",
       "      <td>1307</td>\n",
       "      <td>0</td>\n",
       "      <td>3</td>\n",
       "      <td>Saether, Mr. Simon Sivertsen</td>\n",
       "      <td>male</td>\n",
       "      <td>38.5</td>\n",
       "      <td>0</td>\n",
       "      <td>0</td>\n",
       "      <td>SOTON/O.Q. 3101262</td>\n",
       "      <td>7.2500</td>\n",
       "      <td>NaN</td>\n",
       "      <td>S</td>\n",
       "    </tr>\n",
       "    <tr>\n",
       "      <th>1307</th>\n",
       "      <td>1308</td>\n",
       "      <td>1</td>\n",
       "      <td>3</td>\n",
       "      <td>Ware, Mr. Frederick</td>\n",
       "      <td>male</td>\n",
       "      <td>NaN</td>\n",
       "      <td>0</td>\n",
       "      <td>0</td>\n",
       "      <td>359309</td>\n",
       "      <td>8.0500</td>\n",
       "      <td>NaN</td>\n",
       "      <td>S</td>\n",
       "    </tr>\n",
       "    <tr>\n",
       "      <th>1308</th>\n",
       "      <td>1309</td>\n",
       "      <td>1</td>\n",
       "      <td>3</td>\n",
       "      <td>Peter, Master. Michael J</td>\n",
       "      <td>male</td>\n",
       "      <td>NaN</td>\n",
       "      <td>1</td>\n",
       "      <td>1</td>\n",
       "      <td>2668</td>\n",
       "      <td>22.3583</td>\n",
       "      <td>NaN</td>\n",
       "      <td>C</td>\n",
       "    </tr>\n",
       "  </tbody>\n",
       "</table>\n",
       "<p>1309 rows × 12 columns</p>\n",
       "</div>"
      ],
      "text/plain": [
       "      PassengerId  Survived  Pclass  \\\n",
       "0               1         0       3   \n",
       "1               2         1       1   \n",
       "2               3         1       3   \n",
       "3               4         1       1   \n",
       "4               5         0       3   \n",
       "...           ...       ...     ...   \n",
       "1304         1305         0       3   \n",
       "1305         1306         1       1   \n",
       "1306         1307         0       3   \n",
       "1307         1308         1       3   \n",
       "1308         1309         1       3   \n",
       "\n",
       "                                                   Name     Sex   Age  SibSp  \\\n",
       "0                               Braund, Mr. Owen Harris    male  22.0      1   \n",
       "1     Cumings, Mrs. John Bradley (Florence Briggs Th...  female  38.0      1   \n",
       "2                                Heikkinen, Miss. Laina  female  26.0      0   \n",
       "3          Futrelle, Mrs. Jacques Heath (Lily May Peel)  female  35.0      1   \n",
       "4                              Allen, Mr. William Henry    male  35.0      0   \n",
       "...                                                 ...     ...   ...    ...   \n",
       "1304                                 Spector, Mr. Woolf    male   NaN      0   \n",
       "1305                       Oliva y Ocana, Dona. Fermina  female  39.0      0   \n",
       "1306                       Saether, Mr. Simon Sivertsen    male  38.5      0   \n",
       "1307                                Ware, Mr. Frederick    male   NaN      0   \n",
       "1308                           Peter, Master. Michael J    male   NaN      1   \n",
       "\n",
       "      Parch              Ticket      Fare Cabin Embarked  \n",
       "0         0           A/5 21171    7.2500   NaN        S  \n",
       "1         0            PC 17599   71.2833   C85        C  \n",
       "2         0    STON/O2. 3101282    7.9250   NaN        S  \n",
       "3         0              113803   53.1000  C123        S  \n",
       "4         0              373450    8.0500   NaN        S  \n",
       "...     ...                 ...       ...   ...      ...  \n",
       "1304      0           A.5. 3236    8.0500   NaN        S  \n",
       "1305      0            PC 17758  108.9000  C105        C  \n",
       "1306      0  SOTON/O.Q. 3101262    7.2500   NaN        S  \n",
       "1307      0              359309    8.0500   NaN        S  \n",
       "1308      1                2668   22.3583   NaN        C  \n",
       "\n",
       "[1309 rows x 12 columns]"
      ]
     },
     "execution_count": 62,
     "metadata": {},
     "output_type": "execute_result"
    }
   ],
   "source": [
    "data=pd.read_csv('Titanic_full.csv')\n",
    "data"
   ]
  },
  {
   "cell_type": "code",
   "execution_count": 63,
   "metadata": {},
   "outputs": [
    {
     "data": {
      "text/plain": [
       "<matplotlib.axes._subplots.AxesSubplot at 0x198e4dca988>"
      ]
     },
     "execution_count": 63,
     "metadata": {},
     "output_type": "execute_result"
    },
    {
     "data": {
      "image/png": "[encoded data removed]",
      "text/plain": [
       "<Figure size 432x288 with 1 Axes>"
      ]
     },
     "metadata": {
      "needs_background": "light"
     },
     "output_type": "display_data"
    }
   ],
   "source": [
    "sns.heatmap(data.isnull(),yticklabels=False,cbar=False,cmap='viridis')\n",
    "#data.apply(lambda x: sum(x.isnull()))"
   ]
  },
  {
   "cell_type": "code",
   "execution_count": 64,
   "metadata": {},
   "outputs": [
    {
     "data": {
      "text/plain": [
       "PassengerId    1309\n",
       "Survived          2\n",
       "Pclass            3\n",
       "Name           1307\n",
       "Sex               2\n",
       "Age              99\n",
       "SibSp             7\n",
       "Parch             8\n",
       "Ticket          929\n",
       "Fare            282\n",
       "Cabin           187\n",
       "Embarked          4\n",
       "dtype: int64"
      ]
     },
     "execution_count": 64,
     "metadata": {},
     "output_type": "execute_result"
    }
   ],
   "source": [
    "data.apply(lambda x: len(x.unique()))"
   ]
  },
  {
   "cell_type": "code",
   "execution_count": 65,
   "metadata": {},
   "outputs": [
    {
     "data": {
      "text/html": [
       "<div>\n",
       "<style scoped>\n",
       "    .dataframe tbody tr th:only-of-type {\n",
       "        vertical-align: middle;\n",
       "    }\n",
       "\n",
       "    .dataframe tbody tr th {\n",
       "        vertical-align: top;\n",
       "    }\n",
       "\n",
       "    .dataframe thead th {\n",
       "        text-align: right;\n",
       "    }\n",
       "</style>\n",
       "<table border=\"1\" class=\"dataframe\">\n",
       "  <thead>\n",
       "    <tr style=\"text-align: right;\">\n",
       "      <th></th>\n",
       "      <th>PassengerId</th>\n",
       "      <th>Pclass</th>\n",
       "      <th>Name</th>\n",
       "      <th>Sex</th>\n",
       "      <th>Age</th>\n",
       "      <th>SibSp</th>\n",
       "      <th>Parch</th>\n",
       "      <th>Ticket</th>\n",
       "      <th>Fare</th>\n",
       "      <th>Cabin</th>\n",
       "      <th>Embarked</th>\n",
       "    </tr>\n",
       "    <tr>\n",
       "      <th>Survived</th>\n",
       "      <th></th>\n",
       "      <th></th>\n",
       "      <th></th>\n",
       "      <th></th>\n",
       "      <th></th>\n",
       "      <th></th>\n",
       "      <th></th>\n",
       "      <th></th>\n",
       "      <th></th>\n",
       "      <th></th>\n",
       "      <th></th>\n",
       "    </tr>\n",
       "  </thead>\n",
       "  <tbody>\n",
       "    <tr>\n",
       "      <th>0</th>\n",
       "      <td>804</td>\n",
       "      <td>804</td>\n",
       "      <td>804</td>\n",
       "      <td>804</td>\n",
       "      <td>628</td>\n",
       "      <td>804</td>\n",
       "      <td>804</td>\n",
       "      <td>804</td>\n",
       "      <td>803</td>\n",
       "      <td>131</td>\n",
       "      <td>804</td>\n",
       "    </tr>\n",
       "    <tr>\n",
       "      <th>1</th>\n",
       "      <td>505</td>\n",
       "      <td>505</td>\n",
       "      <td>505</td>\n",
       "      <td>505</td>\n",
       "      <td>418</td>\n",
       "      <td>505</td>\n",
       "      <td>505</td>\n",
       "      <td>505</td>\n",
       "      <td>505</td>\n",
       "      <td>164</td>\n",
       "      <td>503</td>\n",
       "    </tr>\n",
       "  </tbody>\n",
       "</table>\n",
       "</div>"
      ],
      "text/plain": [
       "          PassengerId  Pclass  Name  Sex  Age  SibSp  Parch  Ticket  Fare  \\\n",
       "Survived                                                                    \n",
       "0                 804     804   804  804  628    804    804     804   803   \n",
       "1                 505     505   505  505  418    505    505     505   505   \n",
       "\n",
       "          Cabin  Embarked  \n",
       "Survived                   \n",
       "0           131       804  \n",
       "1           164       503  "
      ]
     },
     "execution_count": 65,
     "metadata": {},
     "output_type": "execute_result"
    }
   ],
   "source": [
    "data.groupby(by='Survived',as_index =True).count()"
   ]
  },
  {
   "cell_type": "code",
   "execution_count": 66,
   "metadata": {},
   "outputs": [
    {
     "data": {
      "text/plain": [
       "['Name', 'Sex', 'Ticket', 'Cabin', 'Embarked']"
      ]
     },
     "execution_count": 66,
     "metadata": {},
     "output_type": "execute_result"
    }
   ],
   "source": [
    "#Filter categorical variables\n",
    "categorical_columns = [x for x in data.dtypes.index if data.dtypes[x]=='object']\n",
    "categorical_columns"
   ]
  },
  {
   "cell_type": "code",
   "execution_count": 67,
   "metadata": {},
   "outputs": [
    {
     "data": {
      "text/plain": [
       "['Sex', 'Embarked']"
      ]
     },
     "execution_count": 67,
     "metadata": {},
     "output_type": "execute_result"
    }
   ],
   "source": [
    "[x for x in categorical_columns if x not in ['Name','Ticket', 'Cabin']]"
   ]
  },
  {
   "cell_type": "code",
   "execution_count": 68,
   "metadata": {},
   "outputs": [
    {
     "name": "stdout",
     "output_type": "stream",
     "text": [
      "Connolly, Miss. Kate                                2\n",
      "Kelly, Mr. James                                    2\n",
      "Jensen, Mr. Hans Peder                              1\n",
      "Cribb, Miss. Laura Alice                            1\n",
      "Eitemiller, Mr. George Floyd                        1\n",
      "                                                   ..\n",
      "Midtsjo, Mr. Karl Albert                            1\n",
      "Farthing, Mr. John                                  1\n",
      "Mayne, Mlle. Berthe Antonine (\"Mrs de Villiers\")    1\n",
      "Bracken, Mr. James H                                1\n",
      "Andersson, Miss. Ellis Anna Maria                   1\n",
      "Name: Name, Length: 1307, dtype: int64\n",
      "male      843\n",
      "female    466\n",
      "Name: Sex, dtype: int64\n",
      "CA. 2343        11\n",
      "CA 2144          8\n",
      "1601             8\n",
      "S.O.C. 14879     7\n",
      "3101295          7\n",
      "                ..\n",
      "349233           1\n",
      "PP 4348          1\n",
      "330923           1\n",
      "345498           1\n",
      "113807           1\n",
      "Name: Ticket, Length: 929, dtype: int64\n",
      "C23 C25 C27        6\n",
      "G6                 5\n",
      "B57 B59 B63 B66    5\n",
      "D                  4\n",
      "F33                4\n",
      "                  ..\n",
      "A31                1\n",
      "B4                 1\n",
      "D48                1\n",
      "B11                1\n",
      "E40                1\n",
      "Name: Cabin, Length: 186, dtype: int64\n",
      "S    914\n",
      "C    270\n",
      "Q    123\n",
      "Name: Embarked, dtype: int64\n"
     ]
    }
   ],
   "source": [
    "for col in categorical_columns:\n",
    "    print (data[col].value_counts())"
   ]
  },
  {
   "cell_type": "code",
   "execution_count": 69,
   "metadata": {},
   "outputs": [
    {
     "name": "stdout",
     "output_type": "stream",
     "text": [
      "             Fare\n",
      "Pclass           \n",
      "1       87.508992\n",
      "2       21.179196\n",
      "3       13.302889\n"
     ]
    },
    {
     "data": {
      "text/plain": [
       "<matplotlib.axes._subplots.AxesSubplot at 0x198e3dce3c8>"
      ]
     },
     "execution_count": 69,
     "metadata": {},
     "output_type": "execute_result"
    },
    {
     "data": {
      "image/png": "[encoded data removed]",
      "text/plain": [
       "<Figure size 432x288 with 1 Axes>"
      ]
     },
     "metadata": {
      "needs_background": "light"
     },
     "output_type": "display_data"
    }
   ],
   "source": [
    "#Determine the average fare per class:\n",
    "item_fare_class = data.pivot_table(values='Fare', index='Pclass')\n",
    "print(item_fare_class)\n",
    "sns.barplot(x='Pclass', y='Fare', data=data)"
   ]
  },
  {
   "cell_type": "code",
   "execution_count": 70,
   "metadata": {},
   "outputs": [
    {
     "data": {
      "text/plain": [
       "1043   NaN\n",
       "Name: Fare, dtype: float64"
      ]
     },
     "execution_count": 70,
     "metadata": {},
     "output_type": "execute_result"
    }
   ],
   "source": [
    "#Get a boolean variable specifying missing Item_Weight values\n",
    "miss_bool = data['Fare'].isnull()\n",
    "data.loc[miss_bool,'Fare']"
   ]
  },
  {
   "cell_type": "code",
   "execution_count": 71,
   "metadata": {
    "scrolled": true
   },
   "outputs": [
    {
     "name": "stdout",
     "output_type": "stream",
     "text": [
      "Orignal #missing: 1\n",
      "Final #missing: 0\n"
     ]
    }
   ],
   "source": [
    "#Impute data and check #missing values before and after imputation to confirm\n",
    "print ('Orignal #missing: %d'% sum(miss_bool))\n",
    "data.loc[miss_bool,'Fare']= data.loc[miss_bool,'Pclass'].apply(lambda x: item_fare_class.loc[x])\n",
    "print ('Final #missing: %d'% sum(data['Fare'].isnull()))"
   ]
  },
  {
   "cell_type": "code",
   "execution_count": 72,
   "metadata": {},
   "outputs": [
    {
     "data": {
      "text/plain": [
       "<matplotlib.axes._subplots.AxesSubplot at 0x198e4e8cfc8>"
      ]
     },
     "execution_count": 72,
     "metadata": {},
     "output_type": "execute_result"
    },
    {
     "data": {
      "image/png": "[encoded data removed]",
      "text/plain": [
       "<Figure size 576x288 with 1 Axes>"
      ]
     },
     "metadata": {
      "needs_background": "light"
     },
     "output_type": "display_data"
    }
   ],
   "source": [
    "data['Fare'].hist(color='green',bins=40,figsize=(8,4))"
   ]
  },
  {
   "cell_type": "code",
   "execution_count": 73,
   "metadata": {},
   "outputs": [],
   "source": [
    "#Import mode function:\n",
    "from scipy.stats import mode"
   ]
  },
  {
   "cell_type": "code",
   "execution_count": 74,
   "metadata": {},
   "outputs": [
    {
     "data": {
      "text/plain": [
       "array(['S', 'C', 'Q', nan], dtype=object)"
      ]
     },
     "execution_count": 74,
     "metadata": {},
     "output_type": "execute_result"
    }
   ],
   "source": [
    "data['Embarked'].unique()"
   ]
  },
  {
   "cell_type": "code",
   "execution_count": 75,
   "metadata": {},
   "outputs": [],
   "source": [
    "data_cat['Embarked']= data_cat['Embarked'].fillna(data_cat['Embarked'].mode()[0])"
   ]
  },
  {
   "cell_type": "code",
   "execution_count": 76,
   "metadata": {},
   "outputs": [],
   "source": [
    "#data['Embarked'].mode, inplace=True).apply(lambda x: x.data['Embarked']\n",
    "#cols_mode = ['race', 'goal', 'date', 'go_out', 'career_c']\n",
    "#df[cols_mode].apply(lambda x: x.fillna(x.mode, inplace=True))"
   ]
  },
  {
   "cell_type": "code",
   "execution_count": 77,
   "metadata": {},
   "outputs": [
    {
     "name": "stdout",
     "output_type": "stream",
     "text": [
      "         Age\n",
      "Pclass      \n",
      "1       39.0\n",
      "2       29.0\n",
      "3       24.0\n"
     ]
    },
    {
     "data": {
      "text/plain": [
       "<matplotlib.axes._subplots.AxesSubplot at 0x198e4f7c508>"
      ]
     },
     "execution_count": 77,
     "metadata": {},
     "output_type": "execute_result"
    },
    {
     "data": {
      "image/png": "[encoded data removed]",
      "text/plain": [
       "<Figure size 864x504 with 1 Axes>"
      ]
     },
     "metadata": {
      "needs_background": "light"
     },
     "output_type": "display_data"
    }
   ],
   "source": [
    "age_grp=data.pivot_table(values='Age', index='Pclass', aggfunc='median')\n",
    "print(age_grp)\n",
    "plt.figure(figsize=(12, 7))\n",
    "sns.boxplot(x='Pclass',y='Age',data=data,palette='winter')"
   ]
  },
  {
   "cell_type": "code",
   "execution_count": 78,
   "metadata": {},
   "outputs": [
    {
     "name": "stdout",
     "output_type": "stream",
     "text": [
      "Orignal #missing: 263\n",
      "Final #missing: 0\n"
     ]
    }
   ],
   "source": [
    "#Impute data and check #missing values before and after imputation to confirm\n",
    "miss_val = data['Age'].isnull()\n",
    "print ('Orignal #missing: %d'% sum(miss_val))\n",
    "data.loc[miss_val,'Age']= data.loc[miss_val,'Pclass'].apply(lambda x: age_grp.loc[x])\n",
    "print ('Final #missing: %d'% sum(data['Age'].isnull()))"
   ]
  },
  {
   "cell_type": "code",
   "execution_count": 79,
   "metadata": {},
   "outputs": [
    {
     "data": {
      "text/plain": [
       "<matplotlib.axes._subplots.AxesSubplot at 0x198e4fb6608>"
      ]
     },
     "execution_count": 79,
     "metadata": {},
     "output_type": "execute_result"
    },
    {
     "data": {
      "image/png": "[encoded data removed]",
      "text/plain": [
       "<Figure size 432x288 with 1 Axes>"
      ]
     },
     "metadata": {
      "needs_background": "light"
     },
     "output_type": "display_data"
    }
   ],
   "source": [
    "sns.distplot(data['Age'],bins=30,color='darkred',kde=False)"
   ]
  },
  {
   "cell_type": "code",
   "execution_count": 80,
   "metadata": {},
   "outputs": [],
   "source": [
    "data.drop(columns=['PassengerId','Name','Cabin','Ticket'],inplace=True)"
   ]
  },
  {
   "cell_type": "markdown",
   "metadata": {},
   "source": [
    "#Import library:\n",
    "from sklearn import preprocessing\n",
    "label_encoder = preprocessing.LabelEncoder()\n",
    "var_mod = ['Sex','Embarked']\n",
    "for i in var_mod:\n",
    "    data[i] = label_encoder.fit_transform(data[i])"
   ]
  },
  {
   "cell_type": "code",
   "execution_count": 81,
   "metadata": {},
   "outputs": [
    {
     "data": {
      "text/html": [
       "<div>\n",
       "<style scoped>\n",
       "    .dataframe tbody tr th:only-of-type {\n",
       "        vertical-align: middle;\n",
       "    }\n",
       "\n",
       "    .dataframe tbody tr th {\n",
       "        vertical-align: top;\n",
       "    }\n",
       "\n",
       "    .dataframe thead th {\n",
       "        text-align: right;\n",
       "    }\n",
       "</style>\n",
       "<table border=\"1\" class=\"dataframe\">\n",
       "  <thead>\n",
       "    <tr style=\"text-align: right;\">\n",
       "      <th></th>\n",
       "      <th>Survived</th>\n",
       "      <th>Pclass</th>\n",
       "      <th>Sex</th>\n",
       "      <th>Age</th>\n",
       "      <th>SibSp</th>\n",
       "      <th>Parch</th>\n",
       "      <th>Fare</th>\n",
       "      <th>Embarked</th>\n",
       "    </tr>\n",
       "  </thead>\n",
       "  <tbody>\n",
       "    <tr>\n",
       "      <th>0</th>\n",
       "      <td>0</td>\n",
       "      <td>3</td>\n",
       "      <td>male</td>\n",
       "      <td>22.0</td>\n",
       "      <td>1</td>\n",
       "      <td>0</td>\n",
       "      <td>7.2500</td>\n",
       "      <td>S</td>\n",
       "    </tr>\n",
       "    <tr>\n",
       "      <th>1</th>\n",
       "      <td>1</td>\n",
       "      <td>1</td>\n",
       "      <td>female</td>\n",
       "      <td>38.0</td>\n",
       "      <td>1</td>\n",
       "      <td>0</td>\n",
       "      <td>71.2833</td>\n",
       "      <td>C</td>\n",
       "    </tr>\n",
       "    <tr>\n",
       "      <th>2</th>\n",
       "      <td>1</td>\n",
       "      <td>3</td>\n",
       "      <td>female</td>\n",
       "      <td>26.0</td>\n",
       "      <td>0</td>\n",
       "      <td>0</td>\n",
       "      <td>7.9250</td>\n",
       "      <td>S</td>\n",
       "    </tr>\n",
       "    <tr>\n",
       "      <th>3</th>\n",
       "      <td>1</td>\n",
       "      <td>1</td>\n",
       "      <td>female</td>\n",
       "      <td>35.0</td>\n",
       "      <td>1</td>\n",
       "      <td>0</td>\n",
       "      <td>53.1000</td>\n",
       "      <td>S</td>\n",
       "    </tr>\n",
       "    <tr>\n",
       "      <th>4</th>\n",
       "      <td>0</td>\n",
       "      <td>3</td>\n",
       "      <td>male</td>\n",
       "      <td>35.0</td>\n",
       "      <td>0</td>\n",
       "      <td>0</td>\n",
       "      <td>8.0500</td>\n",
       "      <td>S</td>\n",
       "    </tr>\n",
       "    <tr>\n",
       "      <th>...</th>\n",
       "      <td>...</td>\n",
       "      <td>...</td>\n",
       "      <td>...</td>\n",
       "      <td>...</td>\n",
       "      <td>...</td>\n",
       "      <td>...</td>\n",
       "      <td>...</td>\n",
       "      <td>...</td>\n",
       "    </tr>\n",
       "    <tr>\n",
       "      <th>1304</th>\n",
       "      <td>0</td>\n",
       "      <td>3</td>\n",
       "      <td>male</td>\n",
       "      <td>24.0</td>\n",
       "      <td>0</td>\n",
       "      <td>0</td>\n",
       "      <td>8.0500</td>\n",
       "      <td>S</td>\n",
       "    </tr>\n",
       "    <tr>\n",
       "      <th>1305</th>\n",
       "      <td>1</td>\n",
       "      <td>1</td>\n",
       "      <td>female</td>\n",
       "      <td>39.0</td>\n",
       "      <td>0</td>\n",
       "      <td>0</td>\n",
       "      <td>108.9000</td>\n",
       "      <td>C</td>\n",
       "    </tr>\n",
       "    <tr>\n",
       "      <th>1306</th>\n",
       "      <td>0</td>\n",
       "      <td>3</td>\n",
       "      <td>male</td>\n",
       "      <td>38.5</td>\n",
       "      <td>0</td>\n",
       "      <td>0</td>\n",
       "      <td>7.2500</td>\n",
       "      <td>S</td>\n",
       "    </tr>\n",
       "    <tr>\n",
       "      <th>1307</th>\n",
       "      <td>1</td>\n",
       "      <td>3</td>\n",
       "      <td>male</td>\n",
       "      <td>24.0</td>\n",
       "      <td>0</td>\n",
       "      <td>0</td>\n",
       "      <td>8.0500</td>\n",
       "      <td>S</td>\n",
       "    </tr>\n",
       "    <tr>\n",
       "      <th>1308</th>\n",
       "      <td>1</td>\n",
       "      <td>3</td>\n",
       "      <td>male</td>\n",
       "      <td>24.0</td>\n",
       "      <td>1</td>\n",
       "      <td>1</td>\n",
       "      <td>22.3583</td>\n",
       "      <td>C</td>\n",
       "    </tr>\n",
       "  </tbody>\n",
       "</table>\n",
       "<p>1309 rows × 8 columns</p>\n",
       "</div>"
      ],
      "text/plain": [
       "      Survived  Pclass     Sex   Age  SibSp  Parch      Fare Embarked\n",
       "0            0       3    male  22.0      1      0    7.2500        S\n",
       "1            1       1  female  38.0      1      0   71.2833        C\n",
       "2            1       3  female  26.0      0      0    7.9250        S\n",
       "3            1       1  female  35.0      1      0   53.1000        S\n",
       "4            0       3    male  35.0      0      0    8.0500        S\n",
       "...        ...     ...     ...   ...    ...    ...       ...      ...\n",
       "1304         0       3    male  24.0      0      0    8.0500        S\n",
       "1305         1       1  female  39.0      0      0  108.9000        C\n",
       "1306         0       3    male  38.5      0      0    7.2500        S\n",
       "1307         1       3    male  24.0      0      0    8.0500        S\n",
       "1308         1       3    male  24.0      1      1   22.3583        C\n",
       "\n",
       "[1309 rows x 8 columns]"
      ]
     },
     "execution_count": 81,
     "metadata": {},
     "output_type": "execute_result"
    }
   ],
   "source": [
    "data"
   ]
  },
  {
   "cell_type": "code",
   "execution_count": 82,
   "metadata": {},
   "outputs": [
    {
     "data": {
      "text/html": [
       "<div>\n",
       "<style scoped>\n",
       "    .dataframe tbody tr th:only-of-type {\n",
       "        vertical-align: middle;\n",
       "    }\n",
       "\n",
       "    .dataframe tbody tr th {\n",
       "        vertical-align: top;\n",
       "    }\n",
       "\n",
       "    .dataframe thead th {\n",
       "        text-align: right;\n",
       "    }\n",
       "</style>\n",
       "<table border=\"1\" class=\"dataframe\">\n",
       "  <thead>\n",
       "    <tr style=\"text-align: right;\">\n",
       "      <th></th>\n",
       "      <th>Survived</th>\n",
       "      <th>Pclass</th>\n",
       "      <th>Age</th>\n",
       "      <th>SibSp</th>\n",
       "      <th>Parch</th>\n",
       "      <th>Fare</th>\n",
       "      <th>Sex_female</th>\n",
       "      <th>Sex_male</th>\n",
       "      <th>Embarked_C</th>\n",
       "      <th>Embarked_Q</th>\n",
       "      <th>Embarked_S</th>\n",
       "    </tr>\n",
       "  </thead>\n",
       "  <tbody>\n",
       "    <tr>\n",
       "      <th>0</th>\n",
       "      <td>0</td>\n",
       "      <td>3</td>\n",
       "      <td>22.0</td>\n",
       "      <td>1</td>\n",
       "      <td>0</td>\n",
       "      <td>7.2500</td>\n",
       "      <td>0</td>\n",
       "      <td>1</td>\n",
       "      <td>0</td>\n",
       "      <td>0</td>\n",
       "      <td>1</td>\n",
       "    </tr>\n",
       "    <tr>\n",
       "      <th>1</th>\n",
       "      <td>1</td>\n",
       "      <td>1</td>\n",
       "      <td>38.0</td>\n",
       "      <td>1</td>\n",
       "      <td>0</td>\n",
       "      <td>71.2833</td>\n",
       "      <td>1</td>\n",
       "      <td>0</td>\n",
       "      <td>1</td>\n",
       "      <td>0</td>\n",
       "      <td>0</td>\n",
       "    </tr>\n",
       "    <tr>\n",
       "      <th>2</th>\n",
       "      <td>1</td>\n",
       "      <td>3</td>\n",
       "      <td>26.0</td>\n",
       "      <td>0</td>\n",
       "      <td>0</td>\n",
       "      <td>7.9250</td>\n",
       "      <td>1</td>\n",
       "      <td>0</td>\n",
       "      <td>0</td>\n",
       "      <td>0</td>\n",
       "      <td>1</td>\n",
       "    </tr>\n",
       "    <tr>\n",
       "      <th>3</th>\n",
       "      <td>1</td>\n",
       "      <td>1</td>\n",
       "      <td>35.0</td>\n",
       "      <td>1</td>\n",
       "      <td>0</td>\n",
       "      <td>53.1000</td>\n",
       "      <td>1</td>\n",
       "      <td>0</td>\n",
       "      <td>0</td>\n",
       "      <td>0</td>\n",
       "      <td>1</td>\n",
       "    </tr>\n",
       "    <tr>\n",
       "      <th>4</th>\n",
       "      <td>0</td>\n",
       "      <td>3</td>\n",
       "      <td>35.0</td>\n",
       "      <td>0</td>\n",
       "      <td>0</td>\n",
       "      <td>8.0500</td>\n",
       "      <td>0</td>\n",
       "      <td>1</td>\n",
       "      <td>0</td>\n",
       "      <td>0</td>\n",
       "      <td>1</td>\n",
       "    </tr>\n",
       "    <tr>\n",
       "      <th>...</th>\n",
       "      <td>...</td>\n",
       "      <td>...</td>\n",
       "      <td>...</td>\n",
       "      <td>...</td>\n",
       "      <td>...</td>\n",
       "      <td>...</td>\n",
       "      <td>...</td>\n",
       "      <td>...</td>\n",
       "      <td>...</td>\n",
       "      <td>...</td>\n",
       "      <td>...</td>\n",
       "    </tr>\n",
       "    <tr>\n",
       "      <th>1304</th>\n",
       "      <td>0</td>\n",
       "      <td>3</td>\n",
       "      <td>24.0</td>\n",
       "      <td>0</td>\n",
       "      <td>0</td>\n",
       "      <td>8.0500</td>\n",
       "      <td>0</td>\n",
       "      <td>1</td>\n",
       "      <td>0</td>\n",
       "      <td>0</td>\n",
       "      <td>1</td>\n",
       "    </tr>\n",
       "    <tr>\n",
       "      <th>1305</th>\n",
       "      <td>1</td>\n",
       "      <td>1</td>\n",
       "      <td>39.0</td>\n",
       "      <td>0</td>\n",
       "      <td>0</td>\n",
       "      <td>108.9000</td>\n",
       "      <td>1</td>\n",
       "      <td>0</td>\n",
       "      <td>1</td>\n",
       "      <td>0</td>\n",
       "      <td>0</td>\n",
       "    </tr>\n",
       "    <tr>\n",
       "      <th>1306</th>\n",
       "      <td>0</td>\n",
       "      <td>3</td>\n",
       "      <td>38.5</td>\n",
       "      <td>0</td>\n",
       "      <td>0</td>\n",
       "      <td>7.2500</td>\n",
       "      <td>0</td>\n",
       "      <td>1</td>\n",
       "      <td>0</td>\n",
       "      <td>0</td>\n",
       "      <td>1</td>\n",
       "    </tr>\n",
       "    <tr>\n",
       "      <th>1307</th>\n",
       "      <td>1</td>\n",
       "      <td>3</td>\n",
       "      <td>24.0</td>\n",
       "      <td>0</td>\n",
       "      <td>0</td>\n",
       "      <td>8.0500</td>\n",
       "      <td>0</td>\n",
       "      <td>1</td>\n",
       "      <td>0</td>\n",
       "      <td>0</td>\n",
       "      <td>1</td>\n",
       "    </tr>\n",
       "    <tr>\n",
       "      <th>1308</th>\n",
       "      <td>1</td>\n",
       "      <td>3</td>\n",
       "      <td>24.0</td>\n",
       "      <td>1</td>\n",
       "      <td>1</td>\n",
       "      <td>22.3583</td>\n",
       "      <td>0</td>\n",
       "      <td>1</td>\n",
       "      <td>1</td>\n",
       "      <td>0</td>\n",
       "      <td>0</td>\n",
       "    </tr>\n",
       "  </tbody>\n",
       "</table>\n",
       "<p>1309 rows × 11 columns</p>\n",
       "</div>"
      ],
      "text/plain": [
       "      Survived  Pclass   Age  SibSp  Parch      Fare  Sex_female  Sex_male  \\\n",
       "0            0       3  22.0      1      0    7.2500           0         1   \n",
       "1            1       1  38.0      1      0   71.2833           1         0   \n",
       "2            1       3  26.0      0      0    7.9250           1         0   \n",
       "3            1       1  35.0      1      0   53.1000           1         0   \n",
       "4            0       3  35.0      0      0    8.0500           0         1   \n",
       "...        ...     ...   ...    ...    ...       ...         ...       ...   \n",
       "1304         0       3  24.0      0      0    8.0500           0         1   \n",
       "1305         1       1  39.0      0      0  108.9000           1         0   \n",
       "1306         0       3  38.5      0      0    7.2500           0         1   \n",
       "1307         1       3  24.0      0      0    8.0500           0         1   \n",
       "1308         1       3  24.0      1      1   22.3583           0         1   \n",
       "\n",
       "      Embarked_C  Embarked_Q  Embarked_S  \n",
       "0              0           0           1  \n",
       "1              1           0           0  \n",
       "2              0           0           1  \n",
       "3              0           0           1  \n",
       "4              0           0           1  \n",
       "...          ...         ...         ...  \n",
       "1304           0           0           1  \n",
       "1305           1           0           0  \n",
       "1306           0           0           1  \n",
       "1307           0           0           1  \n",
       "1308           1           0           0  \n",
       "\n",
       "[1309 rows x 11 columns]"
      ]
     },
     "execution_count": 82,
     "metadata": {},
     "output_type": "execute_result"
    }
   ],
   "source": [
    "#One Hot Coding:\n",
    "data = pd.get_dummies(data, columns=['Sex','Embarked'])\n",
    "data"
   ]
  },
  {
   "cell_type": "code",
   "execution_count": 83,
   "metadata": {},
   "outputs": [],
   "source": [
    "#continuous_columns = [x for x in data.dtypes.index if data.dtypes[x]=='float64']\n",
    "#continuous_columns=data[['Age', 'Fare']]\n",
    "X_con= data[[\"Age\",\"Fare\"]]\n",
    "X_cat = data.drop(X_con,axis = 1)\n"
   ]
  },
  {
   "cell_type": "code",
   "execution_count": 84,
   "metadata": {},
   "outputs": [
    {
     "name": "stdout",
     "output_type": "stream",
     "text": [
      "(1309, 2)\n"
     ]
    },
    {
     "data": {
      "text/html": [
       "<div>\n",
       "<style scoped>\n",
       "    .dataframe tbody tr th:only-of-type {\n",
       "        vertical-align: middle;\n",
       "    }\n",
       "\n",
       "    .dataframe tbody tr th {\n",
       "        vertical-align: top;\n",
       "    }\n",
       "\n",
       "    .dataframe thead th {\n",
       "        text-align: right;\n",
       "    }\n",
       "</style>\n",
       "<table border=\"1\" class=\"dataframe\">\n",
       "  <thead>\n",
       "    <tr style=\"text-align: right;\">\n",
       "      <th></th>\n",
       "      <th>Age</th>\n",
       "      <th>Fare</th>\n",
       "    </tr>\n",
       "  </thead>\n",
       "  <tbody>\n",
       "    <tr>\n",
       "      <th>0</th>\n",
       "      <td>0.273456</td>\n",
       "      <td>0.014151</td>\n",
       "    </tr>\n",
       "    <tr>\n",
       "      <th>1</th>\n",
       "      <td>0.473882</td>\n",
       "      <td>0.139136</td>\n",
       "    </tr>\n",
       "  </tbody>\n",
       "</table>\n",
       "</div>"
      ],
      "text/plain": [
       "        Age      Fare\n",
       "0  0.273456  0.014151\n",
       "1  0.473882  0.139136"
      ]
     },
     "execution_count": 84,
     "metadata": {},
     "output_type": "execute_result"
    }
   ],
   "source": [
    "from sklearn import preprocessing\n",
    "from sklearn.preprocessing import MinMaxScaler\n",
    "scaler = MinMaxScaler(feature_range=(0,1))\n",
    "X_con_sc = pd.DataFrame(scaler.fit_transform(X_con))\n",
    "X_con_sc.columns = [\"Age\",\"Fare\"]\n",
    "print(X_con_sc.shape)\n",
    "X_con_sc.head(2)"
   ]
  },
  {
   "cell_type": "code",
   "execution_count": 85,
   "metadata": {},
   "outputs": [
    {
     "name": "stdout",
     "output_type": "stream",
     "text": [
      "(1309, 11)\n"
     ]
    },
    {
     "data": {
      "text/html": [
       "<div>\n",
       "<style scoped>\n",
       "    .dataframe tbody tr th:only-of-type {\n",
       "        vertical-align: middle;\n",
       "    }\n",
       "\n",
       "    .dataframe tbody tr th {\n",
       "        vertical-align: top;\n",
       "    }\n",
       "\n",
       "    .dataframe thead th {\n",
       "        text-align: right;\n",
       "    }\n",
       "</style>\n",
       "<table border=\"1\" class=\"dataframe\">\n",
       "  <thead>\n",
       "    <tr style=\"text-align: right;\">\n",
       "      <th></th>\n",
       "      <th>Survived</th>\n",
       "      <th>Pclass</th>\n",
       "      <th>SibSp</th>\n",
       "      <th>Parch</th>\n",
       "      <th>Sex_female</th>\n",
       "      <th>Sex_male</th>\n",
       "      <th>Embarked_C</th>\n",
       "      <th>Embarked_Q</th>\n",
       "      <th>Embarked_S</th>\n",
       "      <th>Age</th>\n",
       "      <th>Fare</th>\n",
       "    </tr>\n",
       "  </thead>\n",
       "  <tbody>\n",
       "    <tr>\n",
       "      <th>0</th>\n",
       "      <td>0</td>\n",
       "      <td>3</td>\n",
       "      <td>1</td>\n",
       "      <td>0</td>\n",
       "      <td>0</td>\n",
       "      <td>1</td>\n",
       "      <td>0</td>\n",
       "      <td>0</td>\n",
       "      <td>1</td>\n",
       "      <td>0.273456</td>\n",
       "      <td>0.014151</td>\n",
       "    </tr>\n",
       "    <tr>\n",
       "      <th>1</th>\n",
       "      <td>1</td>\n",
       "      <td>1</td>\n",
       "      <td>1</td>\n",
       "      <td>0</td>\n",
       "      <td>1</td>\n",
       "      <td>0</td>\n",
       "      <td>1</td>\n",
       "      <td>0</td>\n",
       "      <td>0</td>\n",
       "      <td>0.473882</td>\n",
       "      <td>0.139136</td>\n",
       "    </tr>\n",
       "    <tr>\n",
       "      <th>2</th>\n",
       "      <td>1</td>\n",
       "      <td>3</td>\n",
       "      <td>0</td>\n",
       "      <td>0</td>\n",
       "      <td>1</td>\n",
       "      <td>0</td>\n",
       "      <td>0</td>\n",
       "      <td>0</td>\n",
       "      <td>1</td>\n",
       "      <td>0.323563</td>\n",
       "      <td>0.015469</td>\n",
       "    </tr>\n",
       "    <tr>\n",
       "      <th>3</th>\n",
       "      <td>1</td>\n",
       "      <td>1</td>\n",
       "      <td>1</td>\n",
       "      <td>0</td>\n",
       "      <td>1</td>\n",
       "      <td>0</td>\n",
       "      <td>0</td>\n",
       "      <td>0</td>\n",
       "      <td>1</td>\n",
       "      <td>0.436302</td>\n",
       "      <td>0.103644</td>\n",
       "    </tr>\n",
       "    <tr>\n",
       "      <th>4</th>\n",
       "      <td>0</td>\n",
       "      <td>3</td>\n",
       "      <td>0</td>\n",
       "      <td>0</td>\n",
       "      <td>0</td>\n",
       "      <td>1</td>\n",
       "      <td>0</td>\n",
       "      <td>0</td>\n",
       "      <td>1</td>\n",
       "      <td>0.436302</td>\n",
       "      <td>0.015713</td>\n",
       "    </tr>\n",
       "  </tbody>\n",
       "</table>\n",
       "</div>"
      ],
      "text/plain": [
       "   Survived  Pclass  SibSp  Parch  Sex_female  Sex_male  Embarked_C  \\\n",
       "0         0       3      1      0           0         1           0   \n",
       "1         1       1      1      0           1         0           1   \n",
       "2         1       3      0      0           1         0           0   \n",
       "3         1       1      1      0           1         0           0   \n",
       "4         0       3      0      0           0         1           0   \n",
       "\n",
       "   Embarked_Q  Embarked_S       Age      Fare  \n",
       "0           0           1  0.273456  0.014151  \n",
       "1           0           0  0.473882  0.139136  \n",
       "2           0           1  0.323563  0.015469  \n",
       "3           0           1  0.436302  0.103644  \n",
       "4           0           1  0.436302  0.015713  "
      ]
     },
     "execution_count": 85,
     "metadata": {},
     "output_type": "execute_result"
    }
   ],
   "source": [
    "df_list = [X_cat,X_con_sc]\n",
    "X_full = pd.concat(df_list,axis = 1)\n",
    "print(X_full.shape)\n",
    "X_full.head()"
   ]
  },
  {
   "cell_type": "code",
   "execution_count": 86,
   "metadata": {},
   "outputs": [
    {
     "name": "stdout",
     "output_type": "stream",
     "text": [
      "(1100, 11) (209, 11)\n"
     ]
    }
   ],
   "source": [
    "def mydf_splitter(my_df,num_rows):\n",
    "    return my_df[:num_rows].copy(),my_df[num_rows:]\n",
    "\n",
    "\n",
    "mydf_train_valid,mydf_test = mydf_splitter(data,1100)\n",
    "\n",
    "print(mydf_train_valid.shape,mydf_test.shape)"
   ]
  },
  {
   "cell_type": "code",
   "execution_count": 87,
   "metadata": {},
   "outputs": [],
   "source": [
    "Y = mydf_train_valid[\"Survived\"]\n",
    "X = mydf_train_valid.drop([\"Survived\"],axis = 1)"
   ]
  },
  {
   "cell_type": "code",
   "execution_count": 88,
   "metadata": {},
   "outputs": [
    {
     "name": "stdout",
     "output_type": "stream",
     "text": [
      "(900, 10) (200, 10) (900,) (200,)\n"
     ]
    }
   ],
   "source": [
    "X_train,X_valid = mydf_splitter(X,900)\n",
    "Y_train,Y_valid = mydf_splitter(Y,900)\n",
    "\n",
    "print(X_train.shape,X_valid.shape,Y_train.shape,Y_valid.shape)"
   ]
  },
  {
   "cell_type": "code",
   "execution_count": 89,
   "metadata": {},
   "outputs": [],
   "source": [
    "x_tst= mydf_test.drop([\"Survived\"],axis = 1)\n",
    "y_tst = mydf_test[\"Survived\"]"
   ]
  },
  {
   "cell_type": "markdown",
   "metadata": {},
   "source": [
    "# Part2B: Gradient Boosting Implementation on Part1A preprocessed data"
   ]
  },
  {
   "cell_type": "code",
   "execution_count": 278,
   "metadata": {},
   "outputs": [
    {
     "data": {
      "text/plain": [
       "GradientBoostingClassifier(ccp_alpha=0.0, criterion='friedman_mse', init=None,\n",
       "                           learning_rate=0.5, loss='deviance', max_depth=2,\n",
       "                           max_features=2, max_leaf_nodes=None,\n",
       "                           min_impurity_decrease=0.0, min_impurity_split=None,\n",
       "                           min_samples_leaf=1, min_samples_split=2,\n",
       "                           min_weight_fraction_leaf=0.0, n_estimators=70,\n",
       "                           n_iter_no_change=None, presort='deprecated',\n",
       "                           random_state=7, subsample=1.0, tol=0.0001,\n",
       "                           validation_fraction=0.1, verbose=0,\n",
       "                           warm_start=False)"
      ]
     },
     "execution_count": 278,
     "metadata": {},
     "output_type": "execute_result"
    }
   ],
   "source": [
    "from sklearn.ensemble import GradientBoostingClassifier\n",
    "gbrt = GradientBoostingClassifier(n_estimators=70, learning_rate=0.5, max_features=2, max_depth = 2, random_state = 7) \n",
    "gbrt.fit(X_train, Y_train)"
   ]
  },
  {
   "cell_type": "code",
   "execution_count": 279,
   "metadata": {},
   "outputs": [
    {
     "data": {
      "text/plain": [
       "0.515"
      ]
     },
     "execution_count": 279,
     "metadata": {},
     "output_type": "execute_result"
    }
   ],
   "source": [
    "y_prd = gbrt.predict(X_valid)\n",
    "accuracy_score(Y_valid, y_prd)\n"
   ]
  },
  {
   "cell_type": "code",
   "execution_count": 280,
   "metadata": {},
   "outputs": [
    {
     "data": {
      "text/plain": [
       "array([0.17445524, 0.11321155, 0.05953588, 0.06057901, 0.09957403,\n",
       "       0.02096039, 0.3975941 , 0.02180415, 0.00159404, 0.0506916 ])"
      ]
     },
     "execution_count": 280,
     "metadata": {},
     "output_type": "execute_result"
    }
   ],
   "source": [
    "gbrt.feature_importances_"
   ]
  },
  {
   "cell_type": "code",
   "execution_count": 281,
   "metadata": {},
   "outputs": [
    {
     "name": "stdout",
     "output_type": "stream",
     "text": [
      "Confusion Matrix:\n",
      "[[79 53]\n",
      " [44 24]]\n",
      "\n",
      "Classification Report\n",
      "              precision    recall  f1-score   support\n",
      "\n",
      "           0       0.64      0.60      0.62       132\n",
      "           1       0.31      0.35      0.33        68\n",
      "\n",
      "    accuracy                           0.52       200\n",
      "   macro avg       0.48      0.48      0.48       200\n",
      "weighted avg       0.53      0.52      0.52       200\n",
      "\n"
     ]
    }
   ],
   "source": [
    "from sklearn.metrics import classification_report\n",
    "print(\"Confusion Matrix:\")\n",
    "print(confusion_matrix(Y_valid, y_prd))\n",
    "print()\n",
    "print(\"Classification Report\")\n",
    "print(classification_report(Y_valid, y_prd))"
   ]
  },
  {
   "cell_type": "code",
   "execution_count": 282,
   "metadata": {},
   "outputs": [
    {
     "name": "stdout",
     "output_type": "stream",
     "text": [
      "Area under ROC curve = 0.49\n"
     ]
    }
   ],
   "source": [
    "# ROC curve and Area-Under-Curve (AUC)\n",
    "from sklearn.metrics import classification_report, confusion_matrix, roc_curve, auc\n",
    "\n",
    "y_scores = gbrt.decision_function(X_valid)\n",
    "fpr_gb, tpr_gb, _ = roc_curve(Y_valid, y_scores)\n",
    "roc_auc_gb = auc(fpr_gb, tpr_gb)\n",
    "\n",
    "print(\"Area under ROC curve = {:0.2f}\".format(roc_auc_gb))"
   ]
  },
  {
   "cell_type": "markdown",
   "metadata": {},
   "source": [
    "# HyperParameter Tuning(n estimators, learning rate...)"
   ]
  },
  {
   "cell_type": "code",
   "execution_count": 283,
   "metadata": {},
   "outputs": [
    {
     "name": "stdout",
     "output_type": "stream",
     "text": [
      "Learning rate:  0.001\n",
      "n_estimators:  1\n",
      "Accuracy score (training): 0.616\n",
      "Accuracy score (validation): 0.660\n",
      "Accuracy score (testing): 0.565\n",
      "\n",
      "Learning rate:  0.001\n",
      "n_estimators:  2\n",
      "Accuracy score (training): 0.616\n",
      "Accuracy score (validation): 0.660\n",
      "Accuracy score (testing): 0.565\n",
      "\n",
      "Learning rate:  0.001\n",
      "n_estimators:  4\n",
      "Accuracy score (training): 0.616\n",
      "Accuracy score (validation): 0.660\n",
      "Accuracy score (testing): 0.565\n",
      "\n",
      "Learning rate:  0.001\n",
      "n_estimators:  8\n",
      "Accuracy score (training): 0.616\n",
      "Accuracy score (validation): 0.660\n",
      "Accuracy score (testing): 0.565\n",
      "\n",
      "Learning rate:  0.001\n",
      "n_estimators:  16\n",
      "Accuracy score (training): 0.616\n",
      "Accuracy score (validation): 0.660\n",
      "Accuracy score (testing): 0.565\n",
      "\n",
      "Learning rate:  0.001\n",
      "n_estimators:  32\n",
      "Accuracy score (training): 0.616\n",
      "Accuracy score (validation): 0.660\n",
      "Accuracy score (testing): 0.565\n",
      "\n",
      "Learning rate:  0.001\n",
      "n_estimators:  64\n",
      "Accuracy score (training): 0.616\n",
      "Accuracy score (validation): 0.660\n",
      "Accuracy score (testing): 0.565\n",
      "\n",
      "Learning rate:  0.001\n",
      "n_estimators:  100\n",
      "Accuracy score (training): 0.616\n",
      "Accuracy score (validation): 0.660\n",
      "Accuracy score (testing): 0.565\n",
      "\n",
      "Learning rate:  0.001\n",
      "n_estimators:  200\n",
      "Accuracy score (training): 0.616\n",
      "Accuracy score (validation): 0.660\n",
      "Accuracy score (testing): 0.565\n",
      "\n",
      "Learning rate:  0.01\n",
      "n_estimators:  1\n",
      "Accuracy score (training): 0.616\n",
      "Accuracy score (validation): 0.660\n",
      "Accuracy score (testing): 0.565\n",
      "\n",
      "Learning rate:  0.01\n",
      "n_estimators:  2\n",
      "Accuracy score (training): 0.616\n",
      "Accuracy score (validation): 0.660\n",
      "Accuracy score (testing): 0.565\n",
      "\n",
      "Learning rate:  0.01\n",
      "n_estimators:  4\n",
      "Accuracy score (training): 0.616\n",
      "Accuracy score (validation): 0.660\n",
      "Accuracy score (testing): 0.565\n",
      "\n",
      "Learning rate:  0.01\n",
      "n_estimators:  8\n",
      "Accuracy score (training): 0.616\n",
      "Accuracy score (validation): 0.660\n",
      "Accuracy score (testing): 0.565\n",
      "\n",
      "Learning rate:  0.01\n",
      "n_estimators:  16\n",
      "Accuracy score (training): 0.616\n",
      "Accuracy score (validation): 0.660\n",
      "Accuracy score (testing): 0.565\n",
      "\n",
      "Learning rate:  0.01\n",
      "n_estimators:  32\n",
      "Accuracy score (training): 0.617\n",
      "Accuracy score (validation): 0.660\n",
      "Accuracy score (testing): 0.565\n",
      "\n",
      "Learning rate:  0.01\n",
      "n_estimators:  64\n",
      "Accuracy score (training): 0.790\n",
      "Accuracy score (validation): 0.600\n",
      "Accuracy score (testing): 0.507\n",
      "\n",
      "Learning rate:  0.01\n",
      "n_estimators:  100\n",
      "Accuracy score (training): 0.802\n",
      "Accuracy score (validation): 0.595\n",
      "Accuracy score (testing): 0.488\n",
      "\n",
      "Learning rate:  0.01\n",
      "n_estimators:  200\n",
      "Accuracy score (training): 0.806\n",
      "Accuracy score (validation): 0.525\n",
      "Accuracy score (testing): 0.498\n",
      "\n",
      "Learning rate:  0.05\n",
      "n_estimators:  1\n",
      "Accuracy score (training): 0.616\n",
      "Accuracy score (validation): 0.660\n",
      "Accuracy score (testing): 0.565\n",
      "\n",
      "Learning rate:  0.05\n",
      "n_estimators:  2\n",
      "Accuracy score (training): 0.616\n",
      "Accuracy score (validation): 0.660\n",
      "Accuracy score (testing): 0.565\n",
      "\n",
      "Learning rate:  0.05\n",
      "n_estimators:  4\n",
      "Accuracy score (training): 0.616\n",
      "Accuracy score (validation): 0.660\n",
      "Accuracy score (testing): 0.565\n",
      "\n",
      "Learning rate:  0.05\n",
      "n_estimators:  8\n",
      "Accuracy score (training): 0.660\n",
      "Accuracy score (validation): 0.625\n",
      "Accuracy score (testing): 0.550\n",
      "\n",
      "Learning rate:  0.05\n",
      "n_estimators:  16\n",
      "Accuracy score (training): 0.794\n",
      "Accuracy score (validation): 0.595\n",
      "Accuracy score (testing): 0.488\n",
      "\n",
      "Learning rate:  0.05\n",
      "n_estimators:  32\n",
      "Accuracy score (training): 0.803\n",
      "Accuracy score (validation): 0.525\n",
      "Accuracy score (testing): 0.498\n",
      "\n",
      "Learning rate:  0.05\n",
      "n_estimators:  64\n",
      "Accuracy score (training): 0.811\n",
      "Accuracy score (validation): 0.520\n",
      "Accuracy score (testing): 0.498\n",
      "\n",
      "Learning rate:  0.05\n",
      "n_estimators:  100\n",
      "Accuracy score (training): 0.819\n",
      "Accuracy score (validation): 0.505\n",
      "Accuracy score (testing): 0.493\n",
      "\n",
      "Learning rate:  0.05\n",
      "n_estimators:  200\n",
      "Accuracy score (training): 0.831\n",
      "Accuracy score (validation): 0.510\n",
      "Accuracy score (testing): 0.498\n",
      "\n",
      "Learning rate:  0.1\n",
      "n_estimators:  1\n",
      "Accuracy score (training): 0.616\n",
      "Accuracy score (validation): 0.660\n",
      "Accuracy score (testing): 0.565\n",
      "\n",
      "Learning rate:  0.1\n",
      "n_estimators:  2\n",
      "Accuracy score (training): 0.616\n",
      "Accuracy score (validation): 0.660\n",
      "Accuracy score (testing): 0.565\n",
      "\n",
      "Learning rate:  0.1\n",
      "n_estimators:  4\n",
      "Accuracy score (training): 0.668\n",
      "Accuracy score (validation): 0.615\n",
      "Accuracy score (testing): 0.526\n",
      "\n",
      "Learning rate:  0.1\n",
      "n_estimators:  8\n",
      "Accuracy score (training): 0.813\n",
      "Accuracy score (validation): 0.570\n",
      "Accuracy score (testing): 0.464\n",
      "\n",
      "Learning rate:  0.1\n",
      "n_estimators:  16\n",
      "Accuracy score (training): 0.802\n",
      "Accuracy score (validation): 0.535\n",
      "Accuracy score (testing): 0.493\n",
      "\n",
      "Learning rate:  0.1\n",
      "n_estimators:  32\n",
      "Accuracy score (training): 0.816\n",
      "Accuracy score (validation): 0.520\n",
      "Accuracy score (testing): 0.498\n",
      "\n",
      "Learning rate:  0.1\n",
      "n_estimators:  64\n",
      "Accuracy score (training): 0.826\n",
      "Accuracy score (validation): 0.500\n",
      "Accuracy score (testing): 0.493\n",
      "\n",
      "Learning rate:  0.1\n",
      "n_estimators:  100\n",
      "Accuracy score (training): 0.836\n",
      "Accuracy score (validation): 0.495\n",
      "Accuracy score (testing): 0.483\n",
      "\n",
      "Learning rate:  0.1\n",
      "n_estimators:  200\n",
      "Accuracy score (training): 0.852\n",
      "Accuracy score (validation): 0.525\n",
      "Accuracy score (testing): 0.488\n",
      "\n",
      "Learning rate:  0.25\n",
      "n_estimators:  1\n",
      "Accuracy score (training): 0.616\n",
      "Accuracy score (validation): 0.660\n",
      "Accuracy score (testing): 0.565\n",
      "\n",
      "Learning rate:  0.25\n",
      "n_estimators:  2\n",
      "Accuracy score (training): 0.784\n",
      "Accuracy score (validation): 0.515\n",
      "Accuracy score (testing): 0.493\n",
      "\n",
      "Learning rate:  0.25\n",
      "n_estimators:  4\n",
      "Accuracy score (training): 0.786\n",
      "Accuracy score (validation): 0.515\n",
      "Accuracy score (testing): 0.493\n",
      "\n",
      "Learning rate:  0.25\n",
      "n_estimators:  8\n",
      "Accuracy score (training): 0.796\n",
      "Accuracy score (validation): 0.515\n",
      "Accuracy score (testing): 0.493\n",
      "\n",
      "Learning rate:  0.25\n",
      "n_estimators:  16\n",
      "Accuracy score (training): 0.816\n",
      "Accuracy score (validation): 0.530\n",
      "Accuracy score (testing): 0.493\n",
      "\n",
      "Learning rate:  0.25\n",
      "n_estimators:  32\n",
      "Accuracy score (training): 0.831\n",
      "Accuracy score (validation): 0.530\n",
      "Accuracy score (testing): 0.498\n",
      "\n",
      "Learning rate:  0.25\n",
      "n_estimators:  64\n",
      "Accuracy score (training): 0.841\n",
      "Accuracy score (validation): 0.530\n",
      "Accuracy score (testing): 0.488\n",
      "\n",
      "Learning rate:  0.25\n",
      "n_estimators:  100\n",
      "Accuracy score (training): 0.856\n",
      "Accuracy score (validation): 0.525\n",
      "Accuracy score (testing): 0.483\n",
      "\n",
      "Learning rate:  0.25\n",
      "n_estimators:  200\n",
      "Accuracy score (training): 0.881\n",
      "Accuracy score (validation): 0.545\n",
      "Accuracy score (testing): 0.478\n",
      "\n",
      "Learning rate:  0.5\n",
      "n_estimators:  1\n",
      "Accuracy score (training): 0.759\n",
      "Accuracy score (validation): 0.460\n",
      "Accuracy score (testing): 0.483\n",
      "\n",
      "Learning rate:  0.5\n",
      "n_estimators:  2\n",
      "Accuracy score (training): 0.784\n",
      "Accuracy score (validation): 0.515\n",
      "Accuracy score (testing): 0.493\n",
      "\n",
      "Learning rate:  0.5\n",
      "n_estimators:  4\n",
      "Accuracy score (training): 0.786\n",
      "Accuracy score (validation): 0.515\n",
      "Accuracy score (testing): 0.493\n",
      "\n",
      "Learning rate:  0.5\n",
      "n_estimators:  8\n",
      "Accuracy score (training): 0.810\n",
      "Accuracy score (validation): 0.495\n",
      "Accuracy score (testing): 0.483\n",
      "\n",
      "Learning rate:  0.5\n",
      "n_estimators:  16\n",
      "Accuracy score (training): 0.832\n",
      "Accuracy score (validation): 0.510\n",
      "Accuracy score (testing): 0.478\n",
      "\n",
      "Learning rate:  0.5\n",
      "n_estimators:  32\n",
      "Accuracy score (training): 0.844\n",
      "Accuracy score (validation): 0.525\n",
      "Accuracy score (testing): 0.483\n",
      "\n",
      "Learning rate:  0.5\n",
      "n_estimators:  64\n",
      "Accuracy score (training): 0.864\n",
      "Accuracy score (validation): 0.520\n",
      "Accuracy score (testing): 0.483\n",
      "\n",
      "Learning rate:  0.5\n",
      "n_estimators:  100\n",
      "Accuracy score (training): 0.883\n",
      "Accuracy score (validation): 0.495\n",
      "Accuracy score (testing): 0.493\n",
      "\n",
      "Learning rate:  0.5\n",
      "n_estimators:  200\n",
      "Accuracy score (training): 0.903\n",
      "Accuracy score (validation): 0.525\n",
      "Accuracy score (testing): 0.474\n",
      "\n",
      "Learning rate:  0.75\n",
      "n_estimators:  1\n",
      "Accuracy score (training): 0.759\n",
      "Accuracy score (validation): 0.460\n",
      "Accuracy score (testing): 0.483\n",
      "\n",
      "Learning rate:  0.75\n",
      "n_estimators:  2\n",
      "Accuracy score (training): 0.784\n",
      "Accuracy score (validation): 0.515\n",
      "Accuracy score (testing): 0.493\n",
      "\n",
      "Learning rate:  0.75\n",
      "n_estimators:  4\n",
      "Accuracy score (training): 0.790\n",
      "Accuracy score (validation): 0.510\n",
      "Accuracy score (testing): 0.493\n",
      "\n",
      "Learning rate:  0.75\n",
      "n_estimators:  8\n",
      "Accuracy score (training): 0.821\n",
      "Accuracy score (validation): 0.510\n",
      "Accuracy score (testing): 0.493\n",
      "\n",
      "Learning rate:  0.75\n",
      "n_estimators:  16\n",
      "Accuracy score (training): 0.840\n",
      "Accuracy score (validation): 0.560\n",
      "Accuracy score (testing): 0.464\n",
      "\n",
      "Learning rate:  0.75\n",
      "n_estimators:  32\n",
      "Accuracy score (training): 0.847\n",
      "Accuracy score (validation): 0.570\n",
      "Accuracy score (testing): 0.464\n",
      "\n"
     ]
    },
    {
     "name": "stdout",
     "output_type": "stream",
     "text": [
      "Learning rate:  0.75\n",
      "n_estimators:  64\n",
      "Accuracy score (training): 0.864\n",
      "Accuracy score (validation): 0.545\n",
      "Accuracy score (testing): 0.483\n",
      "\n",
      "Learning rate:  0.75\n",
      "n_estimators:  100\n",
      "Accuracy score (training): 0.896\n",
      "Accuracy score (validation): 0.530\n",
      "Accuracy score (testing): 0.483\n",
      "\n",
      "Learning rate:  0.75\n",
      "n_estimators:  200\n",
      "Accuracy score (training): 0.919\n",
      "Accuracy score (validation): 0.535\n",
      "Accuracy score (testing): 0.469\n",
      "\n",
      "Learning rate:  1\n",
      "n_estimators:  1\n",
      "Accuracy score (training): 0.759\n",
      "Accuracy score (validation): 0.460\n",
      "Accuracy score (testing): 0.483\n",
      "\n",
      "Learning rate:  1\n",
      "n_estimators:  2\n",
      "Accuracy score (training): 0.784\n",
      "Accuracy score (validation): 0.515\n",
      "Accuracy score (testing): 0.493\n",
      "\n",
      "Learning rate:  1\n",
      "n_estimators:  4\n",
      "Accuracy score (training): 0.790\n",
      "Accuracy score (validation): 0.510\n",
      "Accuracy score (testing): 0.493\n",
      "\n",
      "Learning rate:  1\n",
      "n_estimators:  8\n",
      "Accuracy score (training): 0.821\n",
      "Accuracy score (validation): 0.515\n",
      "Accuracy score (testing): 0.498\n",
      "\n",
      "Learning rate:  1\n",
      "n_estimators:  16\n",
      "Accuracy score (training): 0.838\n",
      "Accuracy score (validation): 0.490\n",
      "Accuracy score (testing): 0.502\n",
      "\n",
      "Learning rate:  1\n",
      "n_estimators:  32\n",
      "Accuracy score (training): 0.853\n",
      "Accuracy score (validation): 0.530\n",
      "Accuracy score (testing): 0.478\n",
      "\n",
      "Learning rate:  1\n",
      "n_estimators:  64\n",
      "Accuracy score (training): 0.887\n",
      "Accuracy score (validation): 0.515\n",
      "Accuracy score (testing): 0.488\n",
      "\n",
      "Learning rate:  1\n",
      "n_estimators:  100\n",
      "Accuracy score (training): 0.901\n",
      "Accuracy score (validation): 0.555\n",
      "Accuracy score (testing): 0.488\n",
      "\n",
      "Learning rate:  1\n",
      "n_estimators:  200\n",
      "Accuracy score (training): 0.927\n",
      "Accuracy score (validation): 0.540\n",
      "Accuracy score (testing): 0.498\n",
      "\n"
     ]
    }
   ],
   "source": [
    "from sklearn.ensemble import GradientBoostingClassifier\n",
    "learning_rates = [0.001,0.01,0.05, 0.1, 0.25, 0.5, 0.75, 1]\n",
    "n_estimators = [1, 2, 4, 8, 16, 32, 64, 100, 200]\n",
    "for learning_rate in learning_rates:\n",
    "    for estimator in n_estimators:\n",
    "        gb = GradientBoostingClassifier(n_estimators=estimator, learning_rate = learning_rate, max_features=2, max_depth = 2, random_state = 0)\n",
    "        gb.fit(X_train, Y_train)\n",
    "        print(\"Learning rate: \", learning_rate)\n",
    "        print(\"n_estimators: \", estimator)\n",
    "        print(\"Accuracy score (training): {0:.3f}\".format(gb.score(X_train, Y_train)))\n",
    "        print(\"Accuracy score (validation): {0:.3f}\".format(gb.score(X_valid, Y_valid)))\n",
    "        print(\"Accuracy score (testing): {0:.3f}\".format(gb.score(x_tst, y_tst)))\n",
    "        print()"
   ]
  },
  {
   "cell_type": "code",
   "execution_count": 284,
   "metadata": {},
   "outputs": [
    {
     "data": {
      "text/plain": [
       "180"
      ]
     },
     "execution_count": 284,
     "metadata": {},
     "output_type": "execute_result"
    }
   ],
   "source": [
    "import numpy as np \n",
    "from sklearn.metrics import mean_squared_error\n",
    "errors = [mean_squared_error(Y_valid, y_pred)\n",
    "          for y_pred in gb.staged_predict(X_valid)]\n",
    "bst_n_estimators=np.argmin(errors)\n",
    "bst_n_estimators"
   ]
  },
  {
   "cell_type": "code",
   "execution_count": 285,
   "metadata": {},
   "outputs": [
    {
     "data": {
      "text/plain": [
       "GradientBoostingClassifier(ccp_alpha=0.0, criterion='friedman_mse', init=None,\n",
       "                           learning_rate=0.001, loss='deviance', max_depth=2,\n",
       "                           max_features=None, max_leaf_nodes=None,\n",
       "                           min_impurity_decrease=0.0, min_impurity_split=None,\n",
       "                           min_samples_leaf=1, min_samples_split=2,\n",
       "                           min_weight_fraction_leaf=0.0, n_estimators=180,\n",
       "                           n_iter_no_change=None, presort='deprecated',\n",
       "                           random_state=7, subsample=1.0, tol=0.0001,\n",
       "                           validation_fraction=0.1, verbose=0,\n",
       "                           warm_start=False)"
      ]
     },
     "execution_count": 285,
     "metadata": {},
     "output_type": "execute_result"
    }
   ],
   "source": [
    "gbrt_best = GradientBoostingClassifier(max_depth=2,n_estimators=bst_n_estimators, learning_rate=0.001,random_state=7) \n",
    "gbrt_best.fit(X_train, Y_train)"
   ]
  },
  {
   "cell_type": "code",
   "execution_count": 286,
   "metadata": {},
   "outputs": [
    {
     "data": {
      "text/plain": [
       "0.66"
      ]
     },
     "execution_count": 286,
     "metadata": {},
     "output_type": "execute_result"
    }
   ],
   "source": [
    "y_vld_prd = gbrt_best.predict(X_valid)\n",
    "accuracy_score(Y_valid, y_vld_prd.round())"
   ]
  },
  {
   "cell_type": "markdown",
   "metadata": {},
   "source": [
    "# Evaluating test set accuracy with the trained model"
   ]
  },
  {
   "cell_type": "code",
   "execution_count": 287,
   "metadata": {},
   "outputs": [
    {
     "data": {
      "text/plain": [
       "0.5645933014354066"
      ]
     },
     "execution_count": 287,
     "metadata": {},
     "output_type": "execute_result"
    }
   ],
   "source": [
    "y_tst_prd = gbrt_best.predict(x_tst)\n",
    "accuracy_score(y_tst, y_tst_prd.round())"
   ]
  },
  {
   "cell_type": "code",
   "execution_count": 288,
   "metadata": {},
   "outputs": [
    {
     "name": "stdout",
     "output_type": "stream",
     "text": [
      "Confusion Matrix: Testing Data\n",
      "[[118   0]\n",
      " [ 91   0]]\n"
     ]
    },
    {
     "data": {
      "text/plain": [
       "<matplotlib.axes._subplots.AxesSubplot at 0x198e55c2ec8>"
      ]
     },
     "execution_count": 288,
     "metadata": {},
     "output_type": "execute_result"
    },
    {
     "data": {
      "image/png": "[encoded data removed]",
      "text/plain": [
       "<Figure size 576x576 with 2 Axes>"
      ]
     },
     "metadata": {
      "needs_background": "light"
     },
     "output_type": "display_data"
    }
   ],
   "source": [
    "import seaborn as sns\n",
    "from sklearn.metrics import confusion_matrix\n",
    "\n",
    "print(\"Confusion Matrix: Testing Data\")\n",
    "print(confusion_matrix(y_tst, y_tst_prd.round()))\n",
    "gb_cmatrix = confusion_matrix(y_tst, y_tst_prd.round())\n",
    "gb_df = pd.DataFrame(gb_cmatrix)\n",
    "plt.figure(figsize = (8,8))\n",
    "sns.heatmap(gb_df, xticklabels = [\"Unlucky\",\"Survived\"],\n",
    "            yticklabels = [\"Unlucky\",\"Survived\"],annot = True)"
   ]
  },
  {
   "cell_type": "code",
   "execution_count": 289,
   "metadata": {},
   "outputs": [
    {
     "name": "stdout",
     "output_type": "stream",
     "text": [
      "              precision    recall  f1-score   support\n",
      "\n",
      "           0       0.56      1.00      0.72       118\n",
      "           1       0.00      0.00      0.00        91\n",
      "\n",
      "    accuracy                           0.56       209\n",
      "   macro avg       0.28      0.50      0.36       209\n",
      "weighted avg       0.32      0.56      0.41       209\n",
      "\n"
     ]
    },
    {
     "name": "stderr",
     "output_type": "stream",
     "text": [
      "C:\\ProgramData\\Anaconda3\\lib\\site-packages\\sklearn\\metrics\\_classification.py:1272: UndefinedMetricWarning: Precision and F-score are ill-defined and being set to 0.0 in labels with no predicted samples. Use `zero_division` parameter to control this behavior.\n",
      "  _warn_prf(average, modifier, msg_start, len(result))\n"
     ]
    }
   ],
   "source": [
    "# print(\"Classification Report\")\n",
    "print(classification_report(y_tst, y_tst_prd.round()))"
   ]
  },
  {
   "cell_type": "markdown",
   "metadata": {},
   "source": [
    "# Evaluating accuracy on different Classifiers"
   ]
  },
  {
   "cell_type": "code",
   "execution_count": 291,
   "metadata": {},
   "outputs": [
    {
     "name": "stdout",
     "output_type": "stream",
     "text": [
      "RandomForestClassifier--Training Accuracy: 0.82 (+/- 0.03)\n",
      "RandomForestClassifier--Validation Accuracy: 0.59 (+/- 0.08)\n",
      "RandomForestClassifier--testing Accuracy: 0.48 (+/- 0.10)\n",
      "\n",
      "KNeighborsClassifier--Training Accuracy: 0.69 (+/- 0.05)\n",
      "KNeighborsClassifier--Validation Accuracy: 0.58 (+/- 0.07)\n",
      "KNeighborsClassifier--testing Accuracy: 0.63 (+/- 0.09)\n",
      "\n",
      "GradientBoostingClassifier--Training Accuracy: 0.84 (+/- 0.04)\n",
      "GradientBoostingClassifier--Validation Accuracy: 0.56 (+/- 0.14)\n",
      "GradientBoostingClassifier--testing Accuracy: 0.52 (+/- 0.15)\n",
      "\n",
      "AdaBoostClassifier--Training Accuracy: 0.80 (+/- 0.05)\n",
      "AdaBoostClassifier--Validation Accuracy: 0.59 (+/- 0.04)\n",
      "AdaBoostClassifier--testing Accuracy: 0.53 (+/- 0.18)\n",
      "\n",
      "DecisionTreeClassifier--Training Accuracy: 0.77 (+/- 0.03)\n",
      "DecisionTreeClassifier--Validation Accuracy: 0.52 (+/- 0.16)\n",
      "DecisionTreeClassifier--testing Accuracy: 0.58 (+/- 0.19)\n",
      "\n",
      "LogisticRegression--Training Accuracy: 0.79 (+/- 0.03)\n",
      "LogisticRegression--Validation Accuracy: 0.66 (+/- 0.07)\n",
      "LogisticRegression--testing Accuracy: 0.51 (+/- 0.09)\n",
      "\n"
     ]
    }
   ],
   "source": [
    "\n",
    "model_name=['RandomForestClassifier','KNeighborsClassifier','GradientBoostingClassifier','AdaBoostClassifier','DecisionTreeClassifier','LogisticRegression']\n",
    "models_list= [RF(n_estimators=200, max_leaf_nodes=16, n_jobs=-1, random_state=42),KNN(),GB(max_depth=4,n_estimators=100),ab(),dt(),LR(solver='liblinear', penalty='l1')]\n",
    "for i, j in zip(model_name, models_list):\n",
    "    scores = cross_val_score(j, X_train, Y_train, cv=5)\n",
    "    score1 = cross_val_score(j, X_valid, Y_valid, cv=5)\n",
    "    score2 = cross_val_score(j,x_tst, y_tst, cv=5)\n",
    "    print(i+\"--\"+ \"Training Accuracy: %0.2f (+/- %0.2f)\" % (scores.mean(), scores.std() * 2))\n",
    "    print(i+\"--\"+ \"Validation Accuracy: %0.2f (+/- %0.2f)\" % (score1.mean(), score1.std() * 2))\n",
    "    print(i+\"--\"+ \"testing Accuracy: %0.2f (+/- %0.2f)\" % (score2.mean(), score2.std() * 2))\n",
    "    print()"
   ]
  },
  {
   "cell_type": "markdown",
   "metadata": {},
   "source": [
    "# Part3: Evaluating increasing the number of decision trees (n_estimators), increases classifier performance and/or generalizability."
   ]
  },
  {
   "cell_type": "code",
   "execution_count": 292,
   "metadata": {},
   "outputs": [
    {
     "data": {
      "image/png": "[encoded data removed]",
      "text/plain": [
       "<Figure size 432x288 with 1 Axes>"
      ]
     },
     "metadata": {
      "needs_background": "light"
     },
     "output_type": "display_data"
    }
   ],
   "source": [
    "from matplotlib.legend_handler import HandlerLine2D\n",
    "\n",
    "n_estimators = [1, 2, 4, 8, 16, 32, 64, 100, 200]\n",
    "train_results = []\n",
    "valid_results = []\n",
    "\n",
    "for estimator in n_estimators:\n",
    "    model = GradientBoostingClassifier(n_estimators=estimator)\n",
    "    model.fit(X_train, Y_train)\n",
    "    \n",
    "    train_pred=model.predict(X_train)\n",
    "    fpr, tpr, thresholds= roc_curve(Y_train,train_pred)\n",
    "    roc_auc = auc(fpr, tpr)\n",
    "    train_results.append(roc_auc)\n",
    "    \n",
    "    \n",
    "    y_pred=model.predict(X_valid)\n",
    "    fpr_v, tpr_v, thresholds= roc_curve(Y_valid,y_pred)\n",
    "    roc_auc_v = auc(fpr_v, tpr_v)\n",
    "    valid_results.append(roc_auc_v)\n",
    "    \n",
    "  \n",
    "line1, =plt.plot(n_estimators, train_results, 'b', label=\"Train AUC\")\n",
    "line2, =plt.plot(n_estimators, valid_results, 'r', label=\"Valid AUC\")\n",
    "\n",
    "\n",
    "plt.legend(handler_map={line1: HandlerLine2D(numpoints=2)})\n",
    "plt.ylabel('AUC score')\n",
    "plt.xlabel('n_estimators')\n",
    "plt.show()"
   ]
  },
  {
   "cell_type": "code",
   "execution_count": 293,
   "metadata": {},
   "outputs": [
    {
     "data": {
      "image/png": "[encoded data removed]",
      "text/plain": [
       "<Figure size 432x288 with 1 Axes>"
      ]
     },
     "metadata": {
      "needs_background": "light"
     },
     "output_type": "display_data"
    }
   ],
   "source": [
    "from matplotlib.legend_handler import HandlerLine2D\n",
    "\n",
    "n_estimators = [1, 2, 4, 8, 16, 32, 64, 100, 200]\n",
    "train_results = []\n",
    "test_results = []\n",
    "\n",
    "for estimator in n_estimators:\n",
    "    model = GradientBoostingClassifier(n_estimators=estimator)\n",
    "    model.fit(X_train, Y_train)\n",
    "    \n",
    "    train_pred=model.predict(X_train)\n",
    "    fpr, tpr, thresholds= roc_curve(Y_train,train_pred)\n",
    "    roc_auc = auc(fpr, tpr)\n",
    "    train_results.append(roc_auc)\n",
    "    \n",
    "    \n",
    "    y_prd_test=model.predict(x_tst)\n",
    "    fpr_t, tpr_t, thresholds= roc_curve(y_tst,y_prd_test)\n",
    "    roc_auc_t = auc(fpr_t, tpr_t)\n",
    "    test_results.append(roc_auc_t)\n",
    "    \n",
    "line1, =plt.plot(n_estimators, train_results, 'b', label=\"Train AUC\")    \n",
    "line3, =plt.plot(n_estimators, test_results, 'g', label=\"Test AUC\")\n",
    "\n",
    "plt.legend(handler_map={line1: HandlerLine2D(numpoints=2)})\n",
    "plt.ylabel('AUC score')\n",
    "plt.xlabel('n_estimators')\n",
    "plt.show()"
   ]
  },
  {
   "cell_type": "markdown",
   "metadata": {},
   "source": [
    "# Hence increasing the number of estimators may result in overfitting also. In our case, using 32 trees is optimal."
   ]
  }
 ],
 "metadata": {
  "kernelspec": {
   "display_name": "Python 3",
   "language": "python",
   "name": "python3"
  },
  "language_info": {
   "codemirror_mode": {
    "name": "ipython",
    "version": 3
   },
   "file_extension": ".py",
   "mimetype": "text/x-python",
   "name": "python",
   "nbconvert_exporter": "python",
   "pygments_lexer": "ipython3",
   "version": "3.7.6"
  }
 },
 "nbformat": 4,
 "nbformat_minor": 4
}
